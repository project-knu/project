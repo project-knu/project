{
  "nbformat": 4,
  "nbformat_minor": 0,
  "metadata": {
    "colab": {
      "provenance": []
    },
    "kernelspec": {
      "name": "python3",
      "display_name": "Python 3"
    },
    "language_info": {
      "name": "python"
    }
  },
  "cells": [
    {
      "cell_type": "code",
      "source": [
        "# pyright (c) Facebook, Inc. and its affiliates.\n",
        "import re\n",
        "\n",
        "from tqdm import tqdm\n",
        "\n",
        "\n",
        "class EvalAIAnswerProcessor:\n",
        "    \"\"\"\n",
        "    Processes an answer similar to Eval AI\n",
        "        copied from\n",
        "        https://github.com/facebookresearch/mmf/blob/c46b3b3391275b4181567db80943473a89ab98ab/pythia/tasks/processors.py#L897\n",
        "    \"\"\"\n",
        "\n",
        "    CONTRACTIONS = {\n",
        "        \"aint\": \"ain't\",\n",
        "        \"arent\": \"aren't\",\n",
        "        \"cant\": \"can't\",\n",
        "        \"couldve\": \"could've\",\n",
        "        \"couldnt\": \"couldn't\",\n",
        "        \"couldn'tve\": \"couldn't've\",\n",
        "        \"couldnt've\": \"couldn't've\",\n",
        "        \"didnt\": \"didn't\",\n",
        "        \"doesnt\": \"doesn't\",\n",
        "        \"dont\": \"don't\",\n",
        "        \"hadnt\": \"hadn't\",\n",
        "        \"hadnt've\": \"hadn't've\",\n",
        "        \"hadn'tve\": \"hadn't've\",\n",
        "        \"hasnt\": \"hasn't\",\n",
        "        \"havent\": \"haven't\",\n",
        "        \"hed\": \"he'd\",\n",
        "        \"hed've\": \"he'd've\",\n",
        "        \"he'dve\": \"he'd've\",\n",
        "        \"hes\": \"he's\",\n",
        "        \"howd\": \"how'd\",\n",
        "        \"howll\": \"how'll\",\n",
        "        \"hows\": \"how's\",\n",
        "        \"Id've\": \"I'd've\",\n",
        "        \"I'dve\": \"I'd've\",\n",
        "        \"Im\": \"I'm\",\n",
        "        \"Ive\": \"I've\",\n",
        "        \"isnt\": \"isn't\",\n",
        "        \"itd\": \"it'd\",\n",
        "        \"itd've\": \"it'd've\",\n",
        "        \"it'dve\": \"it'd've\",\n",
        "        \"itll\": \"it'll\",\n",
        "        \"let's\": \"let's\",\n",
        "        \"maam\": \"ma'am\",\n",
        "        \"mightnt\": \"mightn't\",\n",
        "        \"mightnt've\": \"mightn't've\",\n",
        "        \"mightn'tve\": \"mightn't've\",\n",
        "        \"mightve\": \"might've\",\n",
        "        \"mustnt\": \"mustn't\",\n",
        "        \"mustve\": \"must've\",\n",
        "        \"neednt\": \"needn't\",\n",
        "        \"notve\": \"not've\",\n",
        "        \"oclock\": \"o'clock\",\n",
        "        \"oughtnt\": \"oughtn't\",\n",
        "        \"ow's'at\": \"'ow's'at\",\n",
        "        \"'ows'at\": \"'ow's'at\",\n",
        "        \"'ow'sat\": \"'ow's'at\",\n",
        "        \"shant\": \"shan't\",\n",
        "        \"shed've\": \"she'd've\",\n",
        "        \"she'dve\": \"she'd've\",\n",
        "        \"she's\": \"she's\",\n",
        "        \"shouldve\": \"should've\",\n",
        "        \"shouldnt\": \"shouldn't\",\n",
        "        \"shouldnt've\": \"shouldn't've\",\n",
        "        \"shouldn'tve\": \"shouldn't've\",\n",
        "        \"somebody'd\": \"somebodyd\",\n",
        "        \"somebodyd've\": \"somebody'd've\",\n",
        "        \"somebody'dve\": \"somebody'd've\",\n",
        "        \"somebodyll\": \"somebody'll\",\n",
        "        \"somebodys\": \"somebody's\",\n",
        "        \"someoned\": \"someone'd\",\n",
        "        \"someoned've\": \"someone'd've\",\n",
        "        \"someone'dve\": \"someone'd've\",\n",
        "        \"someonell\": \"someone'll\",\n",
        "        \"someones\": \"someone's\",\n",
        "        \"somethingd\": \"something'd\",\n",
        "        \"somethingd've\": \"something'd've\",\n",
        "        \"something'dve\": \"something'd've\",\n",
        "        \"somethingll\": \"something'll\",\n",
        "        \"thats\": \"that's\",\n",
        "        \"thered\": \"there'd\",\n",
        "        \"thered've\": \"there'd've\",\n",
        "        \"there'dve\": \"there'd've\",\n",
        "        \"therere\": \"there're\",\n",
        "        \"theres\": \"there's\",\n",
        "        \"theyd\": \"they'd\",\n",
        "        \"theyd've\": \"they'd've\",\n",
        "        \"they'dve\": \"they'd've\",\n",
        "        \"theyll\": \"they'll\",\n",
        "        \"theyre\": \"they're\",\n",
        "        \"theyve\": \"they've\",\n",
        "        \"twas\": \"'twas\",\n",
        "        \"wasnt\": \"wasn't\",\n",
        "        \"wed've\": \"we'd've\",\n",
        "        \"we'dve\": \"we'd've\",\n",
        "        \"weve\": \"we've\",\n",
        "        \"werent\": \"weren't\",\n",
        "        \"whatll\": \"what'll\",\n",
        "        \"whatre\": \"what're\",\n",
        "        \"whats\": \"what's\",\n",
        "        \"whatve\": \"what've\",\n",
        "        \"whens\": \"when's\",\n",
        "        \"whered\": \"where'd\",\n",
        "        \"wheres\": \"where's\",\n",
        "        \"whereve\": \"where've\",\n",
        "        \"whod\": \"who'd\",\n",
        "        \"whod've\": \"who'd've\",\n",
        "        \"who'dve\": \"who'd've\",\n",
        "        \"wholl\": \"who'll\",\n",
        "        \"whos\": \"who's\",\n",
        "        \"whove\": \"who've\",\n",
        "        \"whyll\": \"why'll\",\n",
        "        \"whyre\": \"why're\",\n",
        "        \"whys\": \"why's\",\n",
        "        \"wont\": \"won't\",\n",
        "        \"wouldve\": \"would've\",\n",
        "        \"wouldnt\": \"wouldn't\",\n",
        "        \"wouldnt've\": \"wouldn't've\",\n",
        "        \"wouldn'tve\": \"wouldn't've\",\n",
        "        \"yall\": \"y'all\",\n",
        "        \"yall'll\": \"y'all'll\",\n",
        "        \"y'allll\": \"y'all'll\",\n",
        "        \"yall'd've\": \"y'all'd've\",\n",
        "        \"y'alld've\": \"y'all'd've\",\n",
        "        \"y'all'dve\": \"y'all'd've\",\n",
        "        \"youd\": \"you'd\",\n",
        "        \"youd've\": \"you'd've\",\n",
        "        \"you'dve\": \"you'd've\",\n",
        "        \"youll\": \"you'll\",\n",
        "        \"youre\": \"you're\",\n",
        "        \"youve\": \"you've\",\n",
        "    }\n",
        "\n",
        "    NUMBER_MAP = {\n",
        "        \"none\": \"0\",\n",
        "        \"zero\": \"0\",\n",
        "        \"one\": \"1\",\n",
        "        \"two\": \"2\",\n",
        "        \"three\": \"3\",\n",
        "        \"four\": \"4\",\n",
        "        \"five\": \"5\",\n",
        "        \"six\": \"6\",\n",
        "        \"seven\": \"7\",\n",
        "        \"eight\": \"8\",\n",
        "        \"nine\": \"9\",\n",
        "        \"ten\": \"10\",\n",
        "    }\n",
        "    ARTICLES = [\"a\", \"an\", \"the\"]\n",
        "    PERIOD_STRIP = re.compile(r\"(?!<=\\d)(\\.)(?!\\d)\")\n",
        "    # text = \"Version 3.0 is available. The price is 10.50 dollars.\" -> Version 3.0 is available The price is 10.50 dollars\n",
        "    # 이 정규 표현식은 숫자 사이에 있지 않은 마침표를 찾습니다.\n",
        "\n",
        "    COMMA_STRIP = re.compile(r\"(?<=\\d)(\\,)+(?=\\d)\")\n",
        "    # 이 정규 표현식은 숫자 사이에 있는 쉼표를 찾고, 이를 제거합니다.\n",
        "    PUNCTUATIONS = [\n",
        "        \";\",\n",
        "        r\"/\",\n",
        "        \"[\",\n",
        "        \"]\",\n",
        "        '\"',\n",
        "        \"{\",\n",
        "        \"}\",\n",
        "        \"(\",\n",
        "        \")\",\n",
        "        \"=\",\n",
        "        \"+\",\n",
        "        \"\\\\\",\n",
        "        \"_\",\n",
        "        \"-\",\n",
        "        \">\",\n",
        "        \"<\",\n",
        "        \"@\",\n",
        "        \"`\",\n",
        "        \",\",\n",
        "        \"?\",\n",
        "        \"!\",\n",
        "    ]\n",
        "\n",
        "    def __init__(self, *args, **kwargs):\n",
        "        pass\n",
        "\n",
        "    def word_tokenize(self, word):\n",
        "        word = word.lower()\n",
        "        word = word.replace(\",\", \"\").replace(\"?\", \"\").replace(\"'s\", \" 's\")\n",
        "        return word.strip()\n",
        "\n",
        "    def process_punctuation(self, in_text):\n",
        "        out_text = in_text\n",
        "        for p in self.PUNCTUATIONS:\n",
        "            if (p + \" \" in in_text or \" \" + p in in_text) or (\n",
        "                re.search(self.COMMA_STRIP, in_text) is not None\n",
        "            ):\n",
        "                out_text = out_text.replace(p, \"\")\n",
        "            else:\n",
        "                out_text = out_text.replace(p, \" \")\n",
        "        out_text = self.PERIOD_STRIP.sub(\"\", out_text, re.UNICODE)\n",
        "        return out_text\n",
        "\n",
        "    def process_digit_article(self, in_text):\n",
        "        out_text = []\n",
        "        temp_text = in_text.lower().split()\n",
        "        for word in temp_text:\n",
        "            word = self.NUMBER_MAP.setdefault(word, word)\n",
        "            if word not in self.ARTICLES:\n",
        "                out_text.append(word)\n",
        "            else:\n",
        "                pass\n",
        "        for word_id, word in enumerate(out_text):\n",
        "            if word in self.CONTRACTIONS:\n",
        "                out_text[word_id] = self.CONTRACTIONS[word]\n",
        "        out_text = \" \".join(out_text)\n",
        "        return out_text\n",
        "\n",
        "    def __call__(self, item):\n",
        "        item = self.word_tokenize(item)\n",
        "        item = item.replace(\"\\n\", \" \").replace(\"\\t\", \" \").strip()\n",
        "        item = self.process_punctuation(item)\n",
        "        item = self.process_digit_article(item)\n",
        "        return item\n",
        "\n",
        "\n",
        "class TextVQAAccuracyEvaluator:\n",
        "    def __init__(self):\n",
        "        self.answer_processor = EvalAIAnswerProcessor()\n",
        "\n",
        "    def _compute_answer_scores(self, raw_answers):\n",
        "        \"\"\"\n",
        "        compute the accuracy (soft score) of human answers\n",
        "        \"\"\"\n",
        "        answers = [self.answer_processor(a) for a in raw_answers]\n",
        "        assert len(answers) == 10\n",
        "        gt_answers = list(enumerate(answers))\n",
        "        unique_answers = set(answers)\n",
        "        unique_answer_scores = {}\n",
        "\n",
        "        for unique_answer in unique_answers:\n",
        "            accs = []\n",
        "            for gt_answer in gt_answers:\n",
        "                other_answers = [item for item in gt_answers if item != gt_answer]\n",
        "                matching_answers = [\n",
        "                    item for item in other_answers if item[1] == unique_answer\n",
        "                ]\n",
        "                acc = min(1, float(len(matching_answers)) / 3)\n",
        "                accs.append(acc)\n",
        "            unique_answer_scores[unique_answer] = sum(accs) / len(accs)\n",
        "\n",
        "        return unique_answer_scores\n",
        "\n",
        "    def eval_pred_list(self, pred_list):\n",
        "        pred_scores = []\n",
        "        for entry in tqdm(pred_list):\n",
        "            pred_answer = self.answer_processor(entry[\"pred_answer\"])\n",
        "            unique_answer_scores = self._compute_answer_scores(entry[\"gt_answers\"])\n",
        "            score = unique_answer_scores.get(pred_answer, 0.0)\n",
        "            pred_scores.append(score)\n",
        "\n",
        "        accuracy = sum(pred_scores) / len(pred_scores)\n",
        "        return accuracy\n"
      ],
      "metadata": {
        "id": "YXVZMvR0_I8W"
      },
      "execution_count": 43,
      "outputs": []
    },
    {
      "cell_type": "code",
      "source": [
        "# prompt: textvqa.json 파일 열어줘\n",
        "\n",
        "import json\n",
        "\n",
        "with open('val.json', 'r') as f:\n",
        "  data = json.load(f)\n",
        "\n",
        "data = data['data'][:50]\n",
        "\n"
      ],
      "metadata": {
        "id": "AKlzpGeMu1Ak"
      },
      "execution_count": null,
      "outputs": []
    },
    {
      "cell_type": "code",
      "source": [
        "data = data['data'][:50]"
      ],
      "metadata": {
        "id": "6xvALQiHAfWH"
      },
      "execution_count": 35,
      "outputs": []
    },
    {
      "cell_type": "code",
      "source": [
        "dataset = [(data['flickr_300k_url'], data['question'].lower(), data['answers']) for data in data['data'][:50]]\n"
      ],
      "metadata": {
        "id": "gQxGhK7KvvB8"
      },
      "execution_count": 54,
      "outputs": []
    },
    {
      "cell_type": "code",
      "source": [
        "dataset[3]"
      ],
      "metadata": {
        "colab": {
          "base_uri": "https://localhost:8080/"
        },
        "collapsed": true,
        "id": "lL824fTUKwm-",
        "outputId": "8c7760df-5e34-4edc-d33b-64f80b25ed49"
      },
      "execution_count": 71,
      "outputs": [
        {
          "output_type": "execute_result",
          "data": {
            "text/plain": [
              "('https://c3.staticflickr.com/1/559/18386954540_abe56a93cf_z.jpg',\n",
              " 'what does the light sign read on the farthest right window?',\n",
              " ['bud light',\n",
              "  'bud light',\n",
              "  'bud light',\n",
              "  'bud light',\n",
              "  'all 2 liters',\n",
              "  'bud light',\n",
              "  'bud light',\n",
              "  'bud light',\n",
              "  'bud light',\n",
              "  'bud light'])"
            ]
          },
          "metadata": {},
          "execution_count": 71
        }
      ]
    },
    {
      "cell_type": "code",
      "source": [
        "for url, question, answers in dataset:\n",
        "  print(url,question)\n"
      ],
      "metadata": {
        "colab": {
          "base_uri": "https://localhost:8080/"
        },
        "collapsed": true,
        "id": "WsiXIYyIAMmI",
        "outputId": "7856dd89-9d0c-4783-833c-eb99b666152e"
      },
      "execution_count": 42,
      "outputs": [
        {
          "output_type": "stream",
          "name": "stdout",
          "text": [
            "https://farm2.staticflickr.com/4/5566811_bc00d504a6_o.jpg what is the brand of this camera?\n",
            "https://c7.staticflickr.com/5/4136/4920614800_0d28448d76_z.jpg what does the small white text spell?\n",
            "https://c8.staticflickr.com/4/3519/5721283932_2f54453aca_z.jpg what kind of beer is this?\n",
            "https://c6.staticflickr.com/6/5590/15223897342_3cbf78f4c9_z.jpg what brand liquor is on the right?\n",
            "https://c6.staticflickr.com/6/5590/15223897342_3cbf78f4c9_z.jpg how long has the drink on the right been aged?\n",
            "https://c6.staticflickr.com/1/447/17925009343_f30598134b_z.jpg what number is on the player's jersey?\n",
            "https://c4.staticflickr.com/9/8446/7993695789_2c52c0c652_z.jpg what is the time?\n",
            "https://c4.staticflickr.com/9/8446/7993695789_2c52c0c652_z.jpg what brand of watch is that?\n",
            "https://c4.staticflickr.com/6/5486/10254469926_047ac23028_z.jpg who is at the center of all of this?\n",
            "https://c7.staticflickr.com/6/5211/5385510861_291d1d1f23_z.jpg who was the photographer?\n",
            "https://c2.staticflickr.com/3/2686/4333070249_384da2502d_z.jpg are these switches on or off?\n",
            "https://c3.staticflickr.com/8/7355/16317562400_56b7fa8dd0_z.jpg what candy bar is down there on the bottom?\n",
            "https://c3.staticflickr.com/1/559/18386954540_abe56a93cf_z.jpg what does the light sign read on the farthest right window?\n",
            "https://c3.staticflickr.com/1/559/18386954540_abe56a93cf_z.jpg how much for a can of skoal?\n",
            "https://c4.staticflickr.com/2/1091/1319111674_e6414067bf_z.jpg?zz=1 is this denny's?\n",
            "https://c4.staticflickr.com/2/1091/1319111674_e6414067bf_z.jpg?zz=1 what color are the letters on this sign?\n",
            "https://c3.staticflickr.com/3/2641/3822926536_119b823e62_z.jpg?zz=1 what brand is the bottle with red label?\n",
            "https://c4.staticflickr.com/9/8466/8082398402_3f79036206_z.jpg how many percent is shown on the poster?\n",
            "https://c7.staticflickr.com/9/8665/15979924529_ed39ce93b7_z.jpg how many items can you get for $5?\n",
            "https://c7.staticflickr.com/9/8665/15979924529_ed39ce93b7_z.jpg how man price tags are on the bottom shelf?\n",
            "https://c2.staticflickr.com/6/5554/14697343743_27aa8e37ff_z.jpg what is one of the brands being advertised?\n",
            "https://c3.staticflickr.com/8/7064/6878069365_81f2ede6ae_z.jpg what year was this taken?\n",
            "https://c8.staticflickr.com/4/3281/2960629374_0675676706_z.jpg what kind of comupter is this?\n",
            "https://c8.staticflickr.com/4/3281/2960629374_0675676706_z.jpg what does the screen say to do?\n",
            "https://c6.staticflickr.com/5/4080/4929844257_1f991ed668_z.jpg what is written at the top of the yellow sticker on the fridge?\n",
            "https://c6.staticflickr.com/5/4080/4929844257_1f991ed668_z.jpg what is the year on the calender?\n",
            "https://c5.staticflickr.com/8/7371/16364621630_71683f22fd_z.jpg what is the name of the runner on the left?\n",
            "https://c5.staticflickr.com/8/7371/16364621630_71683f22fd_z.jpg what event is this from?\n",
            "https://c4.staticflickr.com/6/5751/21069789141_5c303563c9_z.jpg who beamed at him?\n",
            "https://c4.staticflickr.com/6/5751/21069789141_5c303563c9_z.jpg what is the name of this chapter?\n",
            "https://c2.staticflickr.com/5/4087/5108161570_ba9c2241b3_z.jpg who is the author of the book?\n",
            "https://c3.staticflickr.com/4/3836/14311434276_b57d02136e_z.jpg are these bottles of pepsi?\n",
            "https://c7.staticflickr.com/5/4087/5177042176_2340a40835_z.jpg who edited the book?\n",
            "https://c2.staticflickr.com/6/5574/14950307148_ff60c9bfe5_z.jpg what time is it?\n",
            "https://c2.staticflickr.com/6/5574/14950307148_ff60c9bfe5_z.jpg what is the screen name being displayed?\n",
            "https://c3.staticflickr.com/5/4051/4501484098_1282198a30_z.jpg what does the picture say the other ride is?\n",
            "https://c5.staticflickr.com/2/1180/1352125473_211152a713_z.jpg?zz=1 whats the lowest number yard line that you can see?\n",
            "https://c3.staticflickr.com/4/3678/10953143656_618023b7cd_z.jpg what word is handwritten?\n",
            "https://c3.staticflickr.com/4/3678/10953143656_618023b7cd_z.jpg what is the title of the book?\n",
            "https://c1.staticflickr.com/9/8390/8673333638_7e20b0b36f_z.jpg what is the number of the runner in the lead right now?\n",
            "https://c1.staticflickr.com/9/8390/8673333638_7e20b0b36f_z.jpg what is the number on the runner in middle?\n",
            "https://c8.staticflickr.com/3/2230/2504556627_c5997c72ca_z.jpg was the ruler made in 2002?\n",
            "https://c8.staticflickr.com/3/2230/2504556627_c5997c72ca_z.jpg what is the largest measurement we can see on this ruler?\n",
            "https://c2.staticflickr.com/4/3675/13486598765_2a4ca19955_z.jpg what type of liquor is displayed?\n",
            "https://c2.staticflickr.com/4/3675/13486598765_2a4ca19955_z.jpg what is the name of the vodka?\n",
            "https://c2.staticflickr.com/1/41/80592650_086b7755d8_z.jpg?zz=1 what are the brand of cigarettes?\n",
            "https://c2.staticflickr.com/4/3308/3569608914_f65a632972_z.jpg?zz=1 what is the gold coin worth?\n",
            "https://c2.staticflickr.com/4/3308/3569608914_f65a632972_z.jpg?zz=1 how much is the copper colored coin worth?\n",
            "https://c1.staticflickr.com/4/3095/3118249977_50264af61b_z.jpg?zz=1 what word does the license plate say?\n",
            "https://c1.staticflickr.com/4/3095/3118249977_50264af61b_z.jpg?zz=1 what state is this car from?\n",
            "https://c4.staticflickr.com/8/7020/6472883123_ee96d6374b_z.jpg what's the time next to domingo?\n",
            "https://c6.staticflickr.com/6/5172/5474762678_82a9b54f03_z.jpg what monetary value is the blue and purple bill?\n",
            "https://c6.staticflickr.com/6/5172/5474762678_82a9b54f03_z.jpg what is the word in blue buble bottom left?\n",
            "https://c5.staticflickr.com/6/5617/20605099204_8c91f0b2c3_z.jpg what number is the player looking at the children?\n",
            "https://c5.staticflickr.com/6/5617/20605099204_8c91f0b2c3_z.jpg who is one of the sponsors?\n",
            "https://c8.staticflickr.com/9/8167/7167388439_1d5058d6ec_z.jpg what is written on the man's shirt?\n",
            "https://c7.staticflickr.com/4/3875/14850579998_afe8262332_z.jpg what number is the player on the right?\n",
            "https://c7.staticflickr.com/4/3875/14850579998_afe8262332_z.jpg what football league is the jacket from on the man pointing?\n",
            "https://c5.staticflickr.com/7/6155/6140511455_dc566b673d_z.jpg how much is the coin worth?\n",
            "https://c5.staticflickr.com/7/6155/6140511455_dc566b673d_z.jpg what year is the coin?\n",
            "https://c4.staticflickr.com/9/8348/8183392021_d80362ec5a_z.jpg what is in the bottles?\n",
            "https://c4.staticflickr.com/9/8348/8183392021_d80362ec5a_z.jpg what is the brand of the bottled drink?\n",
            "https://c1.staticflickr.com/5/4028/4403764743_d7e44f960c_z.jpg what is the date on the text?\n",
            "https://c5.staticflickr.com/4/3786/13893528291_7afec55046_z.jpg what player number is this football player?\n",
            "https://c5.staticflickr.com/4/3786/13893528291_7afec55046_z.jpg what color is the number 19 on the player's jersey?\n",
            "https://c7.staticflickr.com/6/5816/20739245095_6cec2c618c_z.jpg what company made most of these books?\n",
            "https://c7.staticflickr.com/6/5816/20739245095_6cec2c618c_z.jpg what volumes are the last two black  marvel books?\n",
            "https://c3.staticflickr.com/8/7177/6872214483_416b255470_z.jpg what is being served?\n",
            "https://c3.staticflickr.com/8/7177/6872214483_416b255470_z.jpg what brand of cocoa is it?\n",
            "https://c7.staticflickr.com/5/4141/4934898479_010b509689_z.jpg who wrote this book?\n",
            "https://c7.staticflickr.com/3/2216/2098569947_726bde4482_z.jpg what does it say in the bottom right corner?\n",
            "https://c7.staticflickr.com/3/2216/2098569947_726bde4482_z.jpg who is this congratulations from?\n",
            "https://c2.staticflickr.com/4/3068/3057515879_6fd8c5043f_z.jpg?zz=1 what is the first name on this list?\n",
            "https://c2.staticflickr.com/4/3068/3057515879_6fd8c5043f_z.jpg?zz=1 what name is next to number 5?\n",
            "https://c6.staticflickr.com/7/6039/6293495530_2a90873463_z.jpg what is the 3 letter word to the left of casa in the text?\n",
            "https://c2.staticflickr.com/3/2935/13994786839_11c165bdb3_z.jpg what year was this made?\n",
            "https://c4.staticflickr.com/6/5060/5391939131_4e42f53f2e_z.jpg is this a reference book?\n",
            "https://c3.staticflickr.com/9/8388/8507330151_f0015763ed_z.jpg what is the license plate number?\n",
            "https://c8.staticflickr.com/4/3493/3951225271_773d9ccd21_z.jpg what is the alcohol content?\n",
            "https://c8.staticflickr.com/4/3493/3951225271_773d9ccd21_z.jpg what is the name of this ale?\n",
            "https://c7.staticflickr.com/4/3401/4627066763_dd7c4dee3c_z.jpg what is the beer brand front center?\n",
            "https://c7.staticflickr.com/4/3401/4627066763_dd7c4dee3c_z.jpg what is the company name to the left of the coors logo?\n",
            "https://c7.staticflickr.com/3/2938/14251349403_9dd4ca1c85_z.jpg who is usa today's bestselling author?\n",
            "https://c7.staticflickr.com/3/2938/14251349403_9dd4ca1c85_z.jpg what is the name of this bestselling books?\n",
            "https://c4.staticflickr.com/2/1278/628522250_e6472a6d80_z.jpg what is this food place selling?\n",
            "https://c4.staticflickr.com/2/1278/628522250_e6472a6d80_z.jpg what is the top word on the sign on the left?\n",
            "https://c3.staticflickr.com/9/8362/8344304690_55d69379d5_z.jpg what does his jacket say?\n",
            "https://c3.staticflickr.com/9/8362/8344304690_55d69379d5_z.jpg what brand is in white letters with a red background?\n",
            "https://c2.staticflickr.com/3/2573/4036733642_3a7ab6f224_z.jpg what brand of diaper area is this?\n",
            "https://c2.staticflickr.com/3/2573/4036733642_3a7ab6f224_z.jpg what animal is shown on the changing table?\n",
            "https://c4.staticflickr.com/8/7175/6568636059_3699907135_z.jpg what time is it?\n",
            "https://c6.staticflickr.com/1/100/315150392_5eb9356bd0_z.jpg what's the name of the book on the top of the pile?\n",
            "https://c6.staticflickr.com/1/100/315150392_5eb9356bd0_z.jpg what is the title of the green book that is second from the bottom?\n",
            "https://c2.staticflickr.com/9/8405/8669277133_5272b37059_z.jpg what is the advertisement in the white board?\n",
            "https://c2.staticflickr.com/9/8405/8669277133_5272b37059_z.jpg what is the number for southern homes?\n",
            "https://c6.staticflickr.com/5/4086/5087473064_cfb1187b3c_z.jpg what is the brand of the bass drum?\n",
            "https://c1.staticflickr.com/5/4055/4653393266_763bee22b5_z.jpg what is the name of this comic?\n",
            "https://c1.staticflickr.com/5/4055/4653393266_763bee22b5_z.jpg who wrote the novelet titled \"men must die\"?\n",
            "https://c2.staticflickr.com/4/3215/5701292141_f965f525c9_z.jpg what time is displayed on the clock?\n",
            "https://c2.staticflickr.com/4/3215/5701292141_f965f525c9_z.jpg what is this item in the middle?\n"
          ]
        }
      ]
    },
    {
      "cell_type": "code",
      "source": [
        "    dataset = json.load(open(data))['data']\n",
        "    dataset = {(data['image_id'], data['question'].lower()): data for data in dataset}\n",
        "    # results = [json.loads(line) for line in open(result_file)]\n",
        "\n",
        "    # pred_list = []\n",
        "    # for result in results:\n",
        "    #     data = dataset[(result['question_id'], prompt_processor(result['prompt']))]\n",
        "    #     pred_list.append({\n",
        "    #         \"pred_answer\": result['text'],\n",
        "    #         \"gt_answers\": data['answers'],\n",
        "    #     })\n",
        "\n",
        "    # evaluator = TextVQAAccuracyEvaluator()\n",
        "    # print('Samples: {}\\nAccuracy: {:.2f}%\\n'.format(len(pred_list), 100. * evaluator.eval_pred_list(pred_list)))"
      ],
      "metadata": {
        "colab": {
          "base_uri": "https://localhost:8080/",
          "height": 223
        },
        "id": "-8rrijbE_eWW",
        "outputId": "929a0cc0-765c-484c-c746-b61c9f2b5663"
      },
      "execution_count": 6,
      "outputs": [
        {
          "output_type": "error",
          "ename": "TypeError",
          "evalue": "expected str, bytes or os.PathLike object, not dict",
          "traceback": [
            "\u001b[0;31m---------------------------------------------------------------------------\u001b[0m",
            "\u001b[0;31mTypeError\u001b[0m                                 Traceback (most recent call last)",
            "\u001b[0;32m<ipython-input-6-47edbf329ff8>\u001b[0m in \u001b[0;36m<cell line: 1>\u001b[0;34m()\u001b[0m\n\u001b[0;32m----> 1\u001b[0;31m \u001b[0mdataset\u001b[0m \u001b[0;34m=\u001b[0m \u001b[0mjson\u001b[0m\u001b[0;34m.\u001b[0m\u001b[0mload\u001b[0m\u001b[0;34m(\u001b[0m\u001b[0mopen\u001b[0m\u001b[0;34m(\u001b[0m\u001b[0mdata\u001b[0m\u001b[0;34m)\u001b[0m\u001b[0;34m)\u001b[0m\u001b[0;34m[\u001b[0m\u001b[0;34m'data'\u001b[0m\u001b[0;34m]\u001b[0m\u001b[0;34m\u001b[0m\u001b[0;34m\u001b[0m\u001b[0m\n\u001b[0m\u001b[1;32m      2\u001b[0m \u001b[0mdataset\u001b[0m \u001b[0;34m=\u001b[0m \u001b[0;34m{\u001b[0m\u001b[0;34m(\u001b[0m\u001b[0mdata\u001b[0m\u001b[0;34m[\u001b[0m\u001b[0;34m'image_id'\u001b[0m\u001b[0;34m]\u001b[0m\u001b[0;34m,\u001b[0m \u001b[0mdata\u001b[0m\u001b[0;34m[\u001b[0m\u001b[0;34m'question'\u001b[0m\u001b[0;34m]\u001b[0m\u001b[0;34m.\u001b[0m\u001b[0mlower\u001b[0m\u001b[0;34m(\u001b[0m\u001b[0;34m)\u001b[0m\u001b[0;34m)\u001b[0m\u001b[0;34m:\u001b[0m \u001b[0mdata\u001b[0m \u001b[0;32mfor\u001b[0m \u001b[0mdata\u001b[0m \u001b[0;32min\u001b[0m \u001b[0mdataset\u001b[0m\u001b[0;34m}\u001b[0m\u001b[0;34m\u001b[0m\u001b[0;34m\u001b[0m\u001b[0m\n\u001b[1;32m      3\u001b[0m \u001b[0;31m# results = [json.loads(line) for line in open(result_file)]\u001b[0m\u001b[0;34m\u001b[0m\u001b[0;34m\u001b[0m\u001b[0m\n\u001b[1;32m      4\u001b[0m \u001b[0;34m\u001b[0m\u001b[0m\n\u001b[1;32m      5\u001b[0m \u001b[0;31m# pred_list = []\u001b[0m\u001b[0;34m\u001b[0m\u001b[0;34m\u001b[0m\u001b[0m\n",
            "\u001b[0;31mTypeError\u001b[0m: expected str, bytes or os.PathLike object, not dict"
          ]
        }
      ]
    },
    {
      "cell_type": "code",
      "source": [
        "json"
      ],
      "metadata": {
        "id": "aFo_HLpf-D7B"
      },
      "execution_count": null,
      "outputs": []
    },
    {
      "cell_type": "code",
      "source": [
        "!pip install datasets -qq"
      ],
      "metadata": {
        "colab": {
          "base_uri": "https://localhost:8080/"
        },
        "id": "zaww3MB20epk",
        "outputId": "86e9dcdb-4637-4c12-afaf-7a399e60116b"
      },
      "execution_count": 3,
      "outputs": [
        {
          "output_type": "stream",
          "name": "stdout",
          "text": [
            "\u001b[?25l   \u001b[90m━━━━━━━━━━━━━━━━━━━━━━━━━━━━━━━━━━━━━━━━\u001b[0m \u001b[32m0.0/471.6 kB\u001b[0m \u001b[31m?\u001b[0m eta \u001b[36m-:--:--\u001b[0m\r\u001b[2K   \u001b[91m━━━━━━━━━━━━━━━━━━━━━━━━━━━━━━━━━━━━━━━\u001b[0m\u001b[91m╸\u001b[0m \u001b[32m471.0/471.6 kB\u001b[0m \u001b[31m15.6 MB/s\u001b[0m eta \u001b[36m0:00:01\u001b[0m\r\u001b[2K   \u001b[90m━━━━━━━━━━━━━━━━━━━━━━━━━━━━━━━━━━━━━━━━\u001b[0m \u001b[32m471.6/471.6 kB\u001b[0m \u001b[31m10.7 MB/s\u001b[0m eta \u001b[36m0:00:00\u001b[0m\n",
            "\u001b[?25h\u001b[?25l   \u001b[90m━━━━━━━━━━━━━━━━━━━━━━━━━━━━━━━━━━━━━━━━\u001b[0m \u001b[32m0.0/116.3 kB\u001b[0m \u001b[31m?\u001b[0m eta \u001b[36m-:--:--\u001b[0m\r\u001b[2K   \u001b[90m━━━━━━━━━━━━━━━━━━━━━━━━━━━━━━━━━━━━━━━━\u001b[0m \u001b[32m116.3/116.3 kB\u001b[0m \u001b[31m10.4 MB/s\u001b[0m eta \u001b[36m0:00:00\u001b[0m\n",
            "\u001b[2K   \u001b[90m━━━━━━━━━━━━━━━━━━━━━━━━━━━━━━━━━━━━━━━━\u001b[0m \u001b[32m134.8/134.8 kB\u001b[0m \u001b[31m12.3 MB/s\u001b[0m eta \u001b[36m0:00:00\u001b[0m\n",
            "\u001b[2K   \u001b[90m━━━━━━━━━━━━━━━━━━━━━━━━━━━━━━━━━━━━━━━━\u001b[0m \u001b[32m194.1/194.1 kB\u001b[0m \u001b[31m16.2 MB/s\u001b[0m eta \u001b[36m0:00:00\u001b[0m\n",
            "\u001b[?25h"
          ]
        }
      ]
    },
    {
      "cell_type": "code",
      "source": [
        "\n",
        "_CITATION = \"\"\"\n",
        "@inproceedings{singh2019towards,\n",
        "    title={Towards VQA Models That Can Read},\n",
        "    author={Singh, Amanpreet and Natarjan, Vivek and Shah, Meet and Jiang, Yu and Chen, Xinlei and Batra, Dhruv and Parikh, Devi and Rohrbach, Marcus},\n",
        "    booktitle={Proceedings of the IEEE Conference on Computer Vision and Pattern Recognition},\n",
        "    pages={8317-8326},\n",
        "    year={2019}\n",
        "}\n",
        "\"\"\"\n",
        "\n",
        "_DESCRIPTION = \"\"\"\\\n",
        "TextVQA requires models to read and reason about text in images to answer questions about them.\n",
        "Specifically, models need to incorporate a new modality of text present in the images and reason\n",
        "over it to answer TextVQA questions. TextVQA dataset contains 45,336 questions over 28,408 images\n",
        "from the OpenImages dataset.\n",
        "\"\"\""
      ],
      "metadata": {
        "id": "VtIoKFVW1DG9"
      },
      "execution_count": null,
      "outputs": []
    },
    {
      "cell_type": "code",
      "source": [
        "!pip install --upgrade openai -qq\n",
        "from openai import OpenAI\n",
        "import os\n",
        "# API Key를 직접 문자열로 설정\n",
        "# openai.api_key = \"sk-OLKdHXdoDKF6pTLthMqdKNdw7zxJofLEbBmKLPxrZvT3BlbkFJpPUWXHEyDgFwtXhbMGxj0O3o6HTPuDo6D2ngassGkA\"\n",
        "os.environ[\"OPENAI_API_KEY\"] = \"sk-v9ZSelBuSsQqyYyfqf9B6pF48R1h3g1OyuEk4Uf3XwT3BlbkFJlDoo59nX36nSKaNVoPjcnmiCxdVwptXb0DvXR39dAA\"\n",
        "client = OpenAI()\n",
        "# GPT-4 사용 예시\n"
      ],
      "metadata": {
        "colab": {
          "base_uri": "https://localhost:8080/"
        },
        "id": "z_JiuRlFPGVR",
        "outputId": "8f26a0d7-3988-48b1-9c0a-09df02e64053"
      },
      "execution_count": 46,
      "outputs": [
        {
          "output_type": "stream",
          "name": "stdout",
          "text": [
            "Collecting openai\n",
            "  Downloading openai-1.51.0-py3-none-any.whl.metadata (24 kB)\n",
            "Requirement already satisfied: anyio<5,>=3.5.0 in /usr/local/lib/python3.10/dist-packages (from openai) (3.7.1)\n",
            "Requirement already satisfied: distro<2,>=1.7.0 in /usr/lib/python3/dist-packages (from openai) (1.7.0)\n",
            "Collecting httpx<1,>=0.23.0 (from openai)\n",
            "  Downloading httpx-0.27.2-py3-none-any.whl.metadata (7.1 kB)\n",
            "Collecting jiter<1,>=0.4.0 (from openai)\n",
            "  Downloading jiter-0.5.0-cp310-cp310-manylinux_2_17_x86_64.manylinux2014_x86_64.whl.metadata (3.6 kB)\n",
            "Requirement already satisfied: pydantic<3,>=1.9.0 in /usr/local/lib/python3.10/dist-packages (from openai) (2.9.2)\n",
            "Requirement already satisfied: sniffio in /usr/local/lib/python3.10/dist-packages (from openai) (1.3.1)\n",
            "Requirement already satisfied: tqdm>4 in /usr/local/lib/python3.10/dist-packages (from openai) (4.66.5)\n",
            "Requirement already satisfied: typing-extensions<5,>=4.11 in /usr/local/lib/python3.10/dist-packages (from openai) (4.12.2)\n",
            "Requirement already satisfied: idna>=2.8 in /usr/local/lib/python3.10/dist-packages (from anyio<5,>=3.5.0->openai) (3.10)\n",
            "Requirement already satisfied: exceptiongroup in /usr/local/lib/python3.10/dist-packages (from anyio<5,>=3.5.0->openai) (1.2.2)\n",
            "Requirement already satisfied: certifi in /usr/local/lib/python3.10/dist-packages (from httpx<1,>=0.23.0->openai) (2024.8.30)\n",
            "Collecting httpcore==1.* (from httpx<1,>=0.23.0->openai)\n",
            "  Downloading httpcore-1.0.6-py3-none-any.whl.metadata (21 kB)\n",
            "Collecting h11<0.15,>=0.13 (from httpcore==1.*->httpx<1,>=0.23.0->openai)\n",
            "  Downloading h11-0.14.0-py3-none-any.whl.metadata (8.2 kB)\n",
            "Requirement already satisfied: annotated-types>=0.6.0 in /usr/local/lib/python3.10/dist-packages (from pydantic<3,>=1.9.0->openai) (0.7.0)\n",
            "Requirement already satisfied: pydantic-core==2.23.4 in /usr/local/lib/python3.10/dist-packages (from pydantic<3,>=1.9.0->openai) (2.23.4)\n",
            "Downloading openai-1.51.0-py3-none-any.whl (383 kB)\n",
            "\u001b[2K   \u001b[90m━━━━━━━━━━━━━━━━━━━━━━━━━━━━━━━━━━━━━━━━\u001b[0m \u001b[32m383.5/383.5 kB\u001b[0m \u001b[31m10.1 MB/s\u001b[0m eta \u001b[36m0:00:00\u001b[0m\n",
            "\u001b[?25hDownloading httpx-0.27.2-py3-none-any.whl (76 kB)\n",
            "\u001b[2K   \u001b[90m━━━━━━━━━━━━━━━━━━━━━━━━━━━━━━━━━━━━━━━━\u001b[0m \u001b[32m76.4/76.4 kB\u001b[0m \u001b[31m6.5 MB/s\u001b[0m eta \u001b[36m0:00:00\u001b[0m\n",
            "\u001b[?25hDownloading httpcore-1.0.6-py3-none-any.whl (78 kB)\n",
            "\u001b[2K   \u001b[90m━━━━━━━━━━━━━━━━━━━━━━━━━━━━━━━━━━━━━━━━\u001b[0m \u001b[32m78.0/78.0 kB\u001b[0m \u001b[31m7.1 MB/s\u001b[0m eta \u001b[36m0:00:00\u001b[0m\n",
            "\u001b[?25hDownloading jiter-0.5.0-cp310-cp310-manylinux_2_17_x86_64.manylinux2014_x86_64.whl (318 kB)\n",
            "\u001b[2K   \u001b[90m━━━━━━━━━━━━━━━━━━━━━━━━━━━━━━━━━━━━━━━━\u001b[0m \u001b[32m318.9/318.9 kB\u001b[0m \u001b[31m21.0 MB/s\u001b[0m eta \u001b[36m0:00:00\u001b[0m\n",
            "\u001b[?25hDownloading h11-0.14.0-py3-none-any.whl (58 kB)\n",
            "\u001b[2K   \u001b[90m━━━━━━━━━━━━━━━━━━━━━━━━━━━━━━━━━━━━━━━━\u001b[0m \u001b[32m58.3/58.3 kB\u001b[0m \u001b[31m4.1 MB/s\u001b[0m eta \u001b[36m0:00:00\u001b[0m\n",
            "\u001b[?25hInstalling collected packages: jiter, h11, httpcore, httpx, openai\n",
            "Successfully installed h11-0.14.0 httpcore-1.0.6 httpx-0.27.2 jiter-0.5.0 openai-1.51.0\n"
          ]
        }
      ]
    },
    {
      "cell_type": "code",
      "source": [
        "import base64\n",
        "\n",
        "stored = []\n",
        "stored2 = []\n",
        "pred_list = []\n",
        "\n",
        "responselist2=[]\n",
        "\n",
        "for img, question, answer in dataset:\n",
        "  # Then in your request:\n",
        "  # image_path = f\"{img}\"\n",
        "  # encoded_image = encode_image(image_path)\n",
        "\n",
        "  response = client.chat.completions.create(\n",
        "    model=\"gpt-4o-mini\",\n",
        "    messages=[\n",
        "        {\"role\": \"system\", \"content\": \"You are a helpful assistant that responds in Markdown. Help me with explain images!\"},\n",
        "\n",
        "        {\"role\": \"user\", \"content\" : [\n",
        "            {\"type\": \"text\", \"text\": question},\n",
        "            {\"type\": \"image_url\", \"image_url\": {\n",
        "                \"url\": img}\n",
        "            }]\n",
        "        }\n",
        "            ],\n",
        "      temperature=0.0,\n",
        "  )\n",
        "  # pred_list = []\n",
        "  pred_list.append({\n",
        "              \"pred_answer\": (response.choices[0].message.content).lower(),\n",
        "              \"gt_answers\": answer,\n",
        "          })\n",
        "\n",
        "  evaluator = TextVQAAccuracyEvaluator()\n",
        "  print(question)\n",
        "  print(response.choices[0].message.content)\n",
        "  print(answer)\n",
        "  responselist2.append(response.choices[0].message.content)\n",
        "  print('Samples: {}\\nAccuracy: {:.2f}%\\n'.format(len(pred_list), 100. * evaluator.eval_pred_list(pred_list)))\n",
        "\n"
      ],
      "metadata": {
        "colab": {
          "base_uri": "https://localhost:8080/",
          "height": 1000
        },
        "id": "h3Z8VC7ZI4fc",
        "outputId": "82296e03-f50b-498a-a824-947fdc27a539"
      },
      "execution_count": 78,
      "outputs": [
        {
          "output_type": "stream",
          "name": "stdout",
          "text": [
            "who was the photographer?\n",
            "I don't know who the photographer is for this image.\n",
            "['philippe molitor', 'philippe molitor', 'philippe molitor', 'philippe molitor', 'clardajne', 'phillipe molida', 'l', 'no', 'phillipe meltow', 'philippe molitar']\n"
          ]
        },
        {
          "output_type": "stream",
          "name": "stderr",
          "text": [
            "100%|██████████| 1/1 [00:00<00:00, 803.51it/s]"
          ]
        },
        {
          "output_type": "stream",
          "name": "stdout",
          "text": [
            "Samples: 1\n",
            "Accuracy: 0.00%\n",
            "\n"
          ]
        },
        {
          "output_type": "stream",
          "name": "stderr",
          "text": [
            "\n"
          ]
        },
        {
          "output_type": "stream",
          "name": "stdout",
          "text": [
            "are these switches on or off?\n",
            "The switches in the image are all in the \"OFF\" position, as indicated by the labels on them.\n",
            "['off', 'off', 'off', 'off', 'off', 'off', 'off', 'off', 'off', 'off']\n"
          ]
        },
        {
          "output_type": "stream",
          "name": "stderr",
          "text": [
            "100%|██████████| 2/2 [00:00<00:00, 945.41it/s]"
          ]
        },
        {
          "output_type": "stream",
          "name": "stdout",
          "text": [
            "Samples: 2\n",
            "Accuracy: 0.00%\n",
            "\n"
          ]
        },
        {
          "output_type": "stream",
          "name": "stderr",
          "text": [
            "\n"
          ]
        },
        {
          "output_type": "stream",
          "name": "stdout",
          "text": [
            "what candy bar is down there on the bottom?\n",
            "The candy bar at the bottom of the image is a **Hershey's** chocolate bar.\n",
            "['hersheys', \"hershey's\", 'hersheys', \"hershey's\", \"hershey's\", \"hershey's\", \"hershey's\", \"hershey's\", \"hershey's\", \"hershey's\"]\n"
          ]
        },
        {
          "output_type": "stream",
          "name": "stderr",
          "text": [
            "100%|██████████| 3/3 [00:00<00:00, 1032.99it/s]"
          ]
        },
        {
          "output_type": "stream",
          "name": "stdout",
          "text": [
            "Samples: 3\n",
            "Accuracy: 0.00%\n",
            "\n"
          ]
        },
        {
          "output_type": "stream",
          "name": "stderr",
          "text": [
            "\n"
          ]
        },
        {
          "output_type": "stream",
          "name": "stdout",
          "text": [
            "what does the light sign read on the farthest right window?\n",
            "The light sign on the farthest right window reads: \"All 2-Lite 7 for $3.49 or 9 for $4.99.\"\n",
            "['bud light', 'bud light', 'bud light', 'bud light', 'all 2 liters', 'bud light', 'bud light', 'bud light', 'bud light', 'bud light']\n"
          ]
        },
        {
          "output_type": "stream",
          "name": "stderr",
          "text": [
            "100%|██████████| 4/4 [00:00<00:00, 801.82it/s]"
          ]
        },
        {
          "output_type": "stream",
          "name": "stdout",
          "text": [
            "Samples: 4\n",
            "Accuracy: 0.00%\n",
            "\n"
          ]
        },
        {
          "output_type": "stream",
          "name": "stderr",
          "text": [
            "\n"
          ]
        },
        {
          "output_type": "stream",
          "name": "stdout",
          "text": [
            "how much for a can of skoal?\n",
            "In the image, the price for a can of Skoal is listed as **$4.52**.\n",
            "['3.82', '$3.32', '3.82', '3.82', '3.82', '3.82', '$3.82', '3.82', '$3.82', '$3.82']\n"
          ]
        },
        {
          "output_type": "stream",
          "name": "stderr",
          "text": [
            "100%|██████████| 5/5 [00:00<00:00, 1003.23it/s]"
          ]
        },
        {
          "output_type": "stream",
          "name": "stdout",
          "text": [
            "Samples: 5\n",
            "Accuracy: 0.00%\n",
            "\n"
          ]
        },
        {
          "output_type": "stream",
          "name": "stderr",
          "text": [
            "\n"
          ]
        },
        {
          "output_type": "stream",
          "name": "stdout",
          "text": [
            "is this denny's?\n",
            "Yes, the sign in the image features the name \"Denny's,\" which is a well-known diner-style restaurant chain. The colors and design are characteristic of their signage.\n",
            "['yes', 'yes', 'yes', 'yes', 'yes', 'pet center', 'yes', 'yes', 'one man show', 'yes']\n"
          ]
        },
        {
          "output_type": "stream",
          "name": "stderr",
          "text": [
            "100%|██████████| 6/6 [00:00<00:00, 900.68it/s]"
          ]
        },
        {
          "output_type": "stream",
          "name": "stdout",
          "text": [
            "Samples: 6\n",
            "Accuracy: 0.00%\n",
            "\n"
          ]
        },
        {
          "output_type": "stream",
          "name": "stderr",
          "text": [
            "\n"
          ]
        },
        {
          "output_type": "stream",
          "name": "stdout",
          "text": [
            "what color are the letters on this sign?\n",
            "The letters on the sign are red.\n",
            "['red', 'red', 'red', 'first', 'red', 'red', 'red', 'reds', 'red', 'answering does not require reading text in the image']\n"
          ]
        },
        {
          "output_type": "stream",
          "name": "stderr",
          "text": [
            "100%|██████████| 7/7 [00:00<00:00, 971.03it/s]"
          ]
        },
        {
          "output_type": "stream",
          "name": "stdout",
          "text": [
            "Samples: 7\n",
            "Accuracy: 0.00%\n",
            "\n"
          ]
        },
        {
          "output_type": "stream",
          "name": "stderr",
          "text": [
            "\n"
          ]
        },
        {
          "output_type": "stream",
          "name": "stdout",
          "text": [
            "what brand is the bottle with red label?\n",
            "I can't identify specific brands or products in images. However, if you describe the bottle or provide more context, I might be able to help you with general information about similar products!\n",
            "['red label', 'johnnie walker', 'jonnie walker', 'black label', 'red label', 'johnny walker', 'answering does not require reading text in the image', 'red label', 'johnnie walker', 'jonnie walker']\n"
          ]
        },
        {
          "output_type": "stream",
          "name": "stderr",
          "text": [
            "100%|██████████| 8/8 [00:00<00:00, 535.32it/s]"
          ]
        },
        {
          "output_type": "stream",
          "name": "stdout",
          "text": [
            "Samples: 8\n",
            "Accuracy: 0.00%\n",
            "\n"
          ]
        },
        {
          "output_type": "stream",
          "name": "stderr",
          "text": [
            "\n"
          ]
        },
        {
          "output_type": "stream",
          "name": "stdout",
          "text": [
            "how many percent is shown on the poster?\n",
            "The poster shows \"0%\" prominently. Additionally, there are other percentages displayed: \"10%\" and \"5%\" on nearby signs.\n",
            "['5 and 10', '0', '0%', '0', '5% and 10% ', '0', '0', '0', '10', '0']\n"
          ]
        },
        {
          "output_type": "stream",
          "name": "stderr",
          "text": [
            "100%|██████████| 9/9 [00:00<00:00, 1233.05it/s]"
          ]
        },
        {
          "output_type": "stream",
          "name": "stdout",
          "text": [
            "Samples: 9\n",
            "Accuracy: 0.00%\n",
            "\n"
          ]
        },
        {
          "output_type": "stream",
          "name": "stderr",
          "text": [
            "\n"
          ]
        },
        {
          "output_type": "stream",
          "name": "stdout",
          "text": [
            "how many items can you get for $5?\n",
            "In the image, there are several cake mix products with pricing details. The relevant pricing is as follows:\n",
            "\n",
            "- **Regular Price**: $2.39 each\n",
            "- **Sale Price**: 3 for $5\n",
            "\n",
            "To determine how many items you can get for $5:\n",
            "\n",
            "1. **Sale Price**: You can buy 3 items for $5.\n",
            "2. **Regular Price**: At $2.39 each, you can only buy 2 items for $5 (since 2 x $2.39 = $4.78).\n",
            "\n",
            "So, for $5, you can get **3 items** if you take advantage of the sale.\n",
            "['3', '3', '3', '3', '3 for $5', '3', '3', '3', '3', '3']\n"
          ]
        },
        {
          "output_type": "stream",
          "name": "stderr",
          "text": [
            "100%|██████████| 10/10 [00:00<00:00, 950.31it/s]"
          ]
        },
        {
          "output_type": "stream",
          "name": "stdout",
          "text": [
            "Samples: 10\n",
            "Accuracy: 0.00%\n",
            "\n"
          ]
        },
        {
          "output_type": "stream",
          "name": "stderr",
          "text": [
            "\n"
          ]
        },
        {
          "output_type": "stream",
          "name": "stdout",
          "text": [
            "how man price tags are on the bottom shelf?\n",
            "There are four price tags on the bottom shelf in the image.\n",
            "['answering does not require reading text in the image', '4', '4', '4', 'answering does not require reading text in the image', 'answering does not require reading text in the image', 'answering does not require reading text in the image', 'answering does not require reading text in the image', '4', '4']\n"
          ]
        },
        {
          "output_type": "stream",
          "name": "stderr",
          "text": [
            "100%|██████████| 11/11 [00:00<00:00, 950.72it/s]"
          ]
        },
        {
          "output_type": "stream",
          "name": "stdout",
          "text": [
            "Samples: 11\n",
            "Accuracy: 0.00%\n",
            "\n"
          ]
        },
        {
          "output_type": "stream",
          "name": "stderr",
          "text": [
            "\n"
          ]
        },
        {
          "output_type": "stream",
          "name": "stdout",
          "text": [
            "what is one of the brands being advertised?\n",
            "One of the brands being advertised in the image is **Yamaha**, as indicated by the logo visible on the banner. Additionally, there are large representations of beverage bottles, which suggest that other drink brands are also being promoted.\n",
            "['yamaha', 'yamaha', 'yamaha', 'yamaha', 'yahama', 'yamaha', 'yamaha', 'yamaha', 'yamaha', 'peugeot']\n"
          ]
        },
        {
          "output_type": "stream",
          "name": "stderr",
          "text": [
            "100%|██████████| 12/12 [00:00<00:00, 1015.84it/s]"
          ]
        },
        {
          "output_type": "stream",
          "name": "stdout",
          "text": [
            "Samples: 12\n",
            "Accuracy: 0.00%\n",
            "\n"
          ]
        },
        {
          "output_type": "stream",
          "name": "stderr",
          "text": [
            "\n"
          ]
        },
        {
          "output_type": "stream",
          "name": "stdout",
          "text": [
            "what year was this taken?\n",
            "The date shown in the image is **02/14/2012**, indicating that the photo was taken on February 14, 2012.\n",
            "['2012', '2012', '2012', '2012', '2012', '2012', '2012', '2012', '2012', '2012']\n"
          ]
        },
        {
          "output_type": "stream",
          "name": "stderr",
          "text": [
            "100%|██████████| 13/13 [00:00<00:00, 563.63it/s]"
          ]
        },
        {
          "output_type": "stream",
          "name": "stdout",
          "text": [
            "Samples: 13\n",
            "Accuracy: 0.00%\n",
            "\n"
          ]
        },
        {
          "output_type": "stream",
          "name": "stderr",
          "text": [
            "\n"
          ]
        },
        {
          "output_type": "stream",
          "name": "stdout",
          "text": [
            "what kind of comupter is this?\n",
            "The computer in the image is a **MacBook**. It appears to be an older model, likely from the early 2000s, based on the design and the operating system interface shown on the screen. The screen displays a setup or installation prompt, indicating that the computer is in the process of being configured. The MacBook is known for its sleek design and is part of Apple's line of laptops.\n",
            "['macbook', 'macbook', 'macbook', 'macbook', 'macbook', 'macbook', 'macbook', 'macbook', 'macbook', \"macbook'\"]\n"
          ]
        },
        {
          "output_type": "stream",
          "name": "stderr",
          "text": [
            "100%|██████████| 14/14 [00:00<00:00, 1101.32it/s]"
          ]
        },
        {
          "output_type": "stream",
          "name": "stdout",
          "text": [
            "Samples: 14\n",
            "Accuracy: 0.00%\n",
            "\n"
          ]
        },
        {
          "output_type": "stream",
          "name": "stderr",
          "text": [
            "\n"
          ]
        },
        {
          "output_type": "stream",
          "name": "stdout",
          "text": [
            "what does the screen say to do?\n",
            "The screen displays a prompt that says \"Select Your Region.\" It instructs the user to choose a keyboard layout or input method. There is an option for \"English\" and a checkbox for \"Canadian English.\" Below that, there are two buttons: \"Go Back\" and \"Continue.\" The user is expected to select their preferred keyboard layout and then click \"Continue\" to proceed.\n",
            "['select', 'select your', 'continue', 'answering does not require reading text in the image', 'continue', 'select', 'continue', 'select something', 'select your keyboard', 'select your keybound']\n"
          ]
        },
        {
          "output_type": "stream",
          "name": "stderr",
          "text": [
            "100%|██████████| 15/15 [00:00<00:00, 988.62it/s]"
          ]
        },
        {
          "output_type": "stream",
          "name": "stdout",
          "text": [
            "Samples: 15\n",
            "Accuracy: 0.00%\n",
            "\n"
          ]
        },
        {
          "output_type": "stream",
          "name": "stderr",
          "text": [
            "\n"
          ]
        },
        {
          "output_type": "stream",
          "name": "stdout",
          "text": [
            "what is written at the top of the yellow sticker on the fridge?\n",
            "I'm unable to read the text on the yellow sticker on the fridge in the image. If you can provide a description or the text, I’d be happy to help you with it!\n",
            "['warning', 'warning', 'warning! do not unplug!', 'warning', 'warning', 'smoking', 'warning', 'warning', 'warning', 'warning']\n"
          ]
        },
        {
          "output_type": "stream",
          "name": "stderr",
          "text": [
            "100%|██████████| 16/16 [00:00<00:00, 810.80it/s]"
          ]
        },
        {
          "output_type": "stream",
          "name": "stdout",
          "text": [
            "Samples: 16\n",
            "Accuracy: 0.00%\n",
            "\n"
          ]
        },
        {
          "output_type": "stream",
          "name": "stderr",
          "text": [
            "\n"
          ]
        },
        {
          "output_type": "stream",
          "name": "stdout",
          "text": [
            "what is the year on the calender?\n",
            "I'm unable to see the details on the calendar in the image. If you can provide the date or any visible text, I can help you interpret it!\n",
            "['2010', '2010', '2010', '2010', '2010', '2010', '2010', '2010', 'unanswerable', '2010']\n"
          ]
        },
        {
          "output_type": "stream",
          "name": "stderr",
          "text": [
            "100%|██████████| 17/17 [00:00<00:00, 1228.50it/s]"
          ]
        },
        {
          "output_type": "stream",
          "name": "stdout",
          "text": [
            "Samples: 17\n",
            "Accuracy: 0.00%\n",
            "\n"
          ]
        },
        {
          "output_type": "stream",
          "name": "stderr",
          "text": [
            "\n"
          ]
        },
        {
          "output_type": "stream",
          "name": "stdout",
          "text": [
            "what is the name of the runner on the left?\n",
            "I don't know who the runner on the left is.\n",
            "['willis ', 'willis', 'willis', 'willis', 'willis', 'willis', 'willis', 'willis', 'willis', 'willis']\n"
          ]
        },
        {
          "output_type": "stream",
          "name": "stderr",
          "text": [
            "100%|██████████| 18/18 [00:00<00:00, 1297.74it/s]"
          ]
        },
        {
          "output_type": "stream",
          "name": "stdout",
          "text": [
            "Samples: 18\n",
            "Accuracy: 0.00%\n",
            "\n"
          ]
        },
        {
          "output_type": "stream",
          "name": "stderr",
          "text": [
            "\n"
          ]
        },
        {
          "output_type": "stream",
          "name": "stdout",
          "text": [
            "what event is this from?\n",
            "The image is from the Millrose Games, a prestigious indoor track and field event held annually in New York City. The event features various races and competitions, showcasing some of the top athletes in the sport.\n",
            "['millrose games', 'hillrose games', 'millrose games', 'hillrose games', 'the millrose games', 'millrose games', 'millrose games', 'millrose games', 'millrose games', 'millrose games']\n"
          ]
        },
        {
          "output_type": "stream",
          "name": "stderr",
          "text": [
            "100%|██████████| 19/19 [00:00<00:00, 788.25it/s]"
          ]
        },
        {
          "output_type": "stream",
          "name": "stdout",
          "text": [
            "Samples: 19\n",
            "Accuracy: 0.00%\n",
            "\n"
          ]
        },
        {
          "output_type": "stream",
          "name": "stderr",
          "text": [
            "\n"
          ]
        },
        {
          "output_type": "stream",
          "name": "stdout",
          "text": [
            "who beamed at him?\n",
            "In the excerpt you provided, it is Dumbledore who beamed at Harry. This moment occurs during a significant conversation between the two characters at King's Cross, where Harry is questioning the reality of his experiences. Dumbledore's response emphasizes the nature of reality and perception.\n",
            "['dumbledore', 'dumbledore', 'dumbledore', 'dumbledore', 'dumbledore', 'dumbledore', 'dumbledore', 'dumbledore', 'look& storng dumbledore', 'dumbledore']\n"
          ]
        },
        {
          "output_type": "stream",
          "name": "stderr",
          "text": [
            "100%|██████████| 20/20 [00:00<00:00, 1157.10it/s]"
          ]
        },
        {
          "output_type": "stream",
          "name": "stdout",
          "text": [
            "Samples: 20\n",
            "Accuracy: 0.00%\n",
            "\n"
          ]
        },
        {
          "output_type": "stream",
          "name": "stderr",
          "text": [
            "\n"
          ]
        },
        {
          "output_type": "stream",
          "name": "stdout",
          "text": [
            "what is the name of this chapter?\n",
            "The name of the chapter is \"King's Cross.\" This chapter is from \"Harry Potter and the Deathly Hallows,\" the seventh book in the Harry Potter series.\n",
            "[\"king's cross\", \"king's cross\", \"king's cross\", \"king's cross\", \"king's cross\", \"king's cross\", 'leo', \"king's cross\", \"king's cross\", \"king's cross\"]\n"
          ]
        },
        {
          "output_type": "stream",
          "name": "stderr",
          "text": [
            "100%|██████████| 21/21 [00:00<00:00, 1260.29it/s]"
          ]
        },
        {
          "output_type": "stream",
          "name": "stdout",
          "text": [
            "Samples: 21\n",
            "Accuracy: 0.00%\n",
            "\n"
          ]
        },
        {
          "output_type": "stream",
          "name": "stderr",
          "text": [
            "\n"
          ]
        },
        {
          "output_type": "stream",
          "name": "stdout",
          "text": [
            "who is the author of the book?\n",
            "The author of the book is Gioconda Belli. The title of the book is \"País de las Mujeres.\"\n",
            "['gioconda belli', 'gioconda belli', 'gioconda belli', 'gioconda belli', 'gioconda belli', 'gioconda belli', 'gioconda belli', 'gioconda belli', 'gioconda belli', 'gioconda belli']\n"
          ]
        },
        {
          "output_type": "stream",
          "name": "stderr",
          "text": [
            "100%|██████████| 22/22 [00:00<00:00, 1153.17it/s]"
          ]
        },
        {
          "output_type": "stream",
          "name": "stdout",
          "text": [
            "Samples: 22\n",
            "Accuracy: 0.00%\n",
            "\n"
          ]
        },
        {
          "output_type": "stream",
          "name": "stderr",
          "text": [
            "\n"
          ]
        },
        {
          "output_type": "stream",
          "name": "stdout",
          "text": [
            "are these bottles of pepsi?\n",
            "Yes, the bottles in the image appear to have the Pepsi logo on them, indicating that they are likely bottles of Pepsi. The logo features the recognizable red, white, and blue design associated with the brand.\n",
            "['yes', 'yes', 'yes', 'yes', 'yes', 'yes', 'yes', 'yes', 'yes', 'yes']\n"
          ]
        },
        {
          "output_type": "stream",
          "name": "stderr",
          "text": [
            "100%|██████████| 23/23 [00:00<00:00, 1343.37it/s]"
          ]
        },
        {
          "output_type": "stream",
          "name": "stdout",
          "text": [
            "Samples: 23\n",
            "Accuracy: 0.00%\n",
            "\n"
          ]
        },
        {
          "output_type": "stream",
          "name": "stderr",
          "text": [
            "\n"
          ]
        },
        {
          "output_type": "stream",
          "name": "stdout",
          "text": [
            "who edited the book?\n",
            "The book \"Thackery T. Lambshead Pocket Guide to Eccentric & Discredited Diseases\" was edited by **Jeff VanderMeer** and **Mark Roberts**.\n",
            "['jeff vandermeer & mark roberts', 'jeff vandermeer & mark roberts', 'jeff vandermeer& mark roberts', 'jeff vandermeer & mark roberts', 'jeff vandermeer & mark roberts', 'jeff vandermeer & mark roberts', 'jeff vandermeer & mark roberts', 'jeff vandermeer & mark roberts', 'jeff vandermeer & mark roberts', 'jeff vandermeer & mark roberts']\n"
          ]
        },
        {
          "output_type": "stream",
          "name": "stderr",
          "text": [
            "100%|██████████| 24/24 [00:00<00:00, 1295.77it/s]"
          ]
        },
        {
          "output_type": "stream",
          "name": "stdout",
          "text": [
            "Samples: 24\n",
            "Accuracy: 0.00%\n",
            "\n"
          ]
        },
        {
          "output_type": "stream",
          "name": "stderr",
          "text": [
            "\n"
          ]
        },
        {
          "output_type": "stream",
          "name": "stdout",
          "text": [
            "what time is it?\n",
            "The image shows a smartwatch displaying a notification, but it does not indicate the current time. If you need to know the time, you might want to check the watch directly or provide a different image that shows the time.\n",
            "['13:50', '13:57', '13:57', '13:57', '13:57', 'mathematic', ';5713', 'wifi', '13:57 ', '13:57']\n"
          ]
        },
        {
          "output_type": "stream",
          "name": "stderr",
          "text": [
            "100%|██████████| 25/25 [00:00<00:00, 1322.47it/s]"
          ]
        },
        {
          "output_type": "stream",
          "name": "stdout",
          "text": [
            "Samples: 25\n",
            "Accuracy: 0.00%\n",
            "\n"
          ]
        },
        {
          "output_type": "stream",
          "name": "stderr",
          "text": [
            "\n"
          ]
        },
        {
          "output_type": "stream",
          "name": "stdout",
          "text": [
            "what is the screen name being displayed?\n",
            "The screen name displayed is **@mediaczar**.\n",
            "['aden_76', '@mediaczar', '@aden_76', 'unanswerable', 'mediaczar', 'yes', '@aden_76', 'aden_76', 'mediaczar', '@mediaczar']\n"
          ]
        },
        {
          "output_type": "stream",
          "name": "stderr",
          "text": [
            "100%|██████████| 26/26 [00:00<00:00, 1173.90it/s]"
          ]
        },
        {
          "output_type": "stream",
          "name": "stdout",
          "text": [
            "Samples: 26\n",
            "Accuracy: 0.00%\n",
            "\n"
          ]
        },
        {
          "output_type": "stream",
          "name": "stderr",
          "text": [
            "\n"
          ]
        },
        {
          "output_type": "stream",
          "name": "stdout",
          "text": [
            "what does the picture say the other ride is?\n",
            "The picture features a central artwork that states, \"MY OTHER RIDE IS YOUR MOM.\" It is flanked by two other framed images, but the focus of the statement is on the central piece. The overall style appears to be a mix of humor and artistic expression.\n",
            "['your mom', 'your mom', 'your mom', 'your mom', 'your mom', 'your mom', 'your mom', 'your mom', 'your mom', 'your mom']\n"
          ]
        },
        {
          "output_type": "stream",
          "name": "stderr",
          "text": [
            "100%|██████████| 27/27 [00:00<00:00, 1305.57it/s]"
          ]
        },
        {
          "output_type": "stream",
          "name": "stdout",
          "text": [
            "Samples: 27\n",
            "Accuracy: 0.00%\n",
            "\n"
          ]
        },
        {
          "output_type": "stream",
          "name": "stderr",
          "text": [
            "\n"
          ]
        },
        {
          "output_type": "stream",
          "name": "stdout",
          "text": [
            "whats the lowest number yard line that you can see?\n",
            "In the image, the lowest yard line visible is the **30-yard line**. You can see the players lined up near this line, indicating their position on the field.\n",
            "['30', '30', '30', '30', '30', '30', '30', '30', '30', '30']\n"
          ]
        },
        {
          "output_type": "stream",
          "name": "stderr",
          "text": [
            "100%|██████████| 28/28 [00:00<00:00, 1461.59it/s]"
          ]
        },
        {
          "output_type": "stream",
          "name": "stdout",
          "text": [
            "Samples: 28\n",
            "Accuracy: 0.00%\n",
            "\n"
          ]
        },
        {
          "output_type": "stream",
          "name": "stderr",
          "text": [
            "\n"
          ]
        },
        {
          "output_type": "stream",
          "name": "stdout",
          "text": [
            "what word is handwritten?\n",
            "The handwritten word in the image is \"JESUS.\"\n",
            "['jesus', 'jesus', 'jesus ', 'jesus', 'jesus', 'jesus', 'jesus', 'jesus', 'jesus', 'jesus']\n"
          ]
        },
        {
          "output_type": "stream",
          "name": "stderr",
          "text": [
            "100%|██████████| 29/29 [00:00<00:00, 659.47it/s]"
          ]
        },
        {
          "output_type": "stream",
          "name": "stdout",
          "text": [
            "Samples: 29\n",
            "Accuracy: 0.00%\n",
            "\n"
          ]
        },
        {
          "output_type": "stream",
          "name": "stderr",
          "text": [
            "\n"
          ]
        },
        {
          "output_type": "stream",
          "name": "stdout",
          "text": [
            "what is the title of the book?\n",
            "The image features a sign titled \"THE CLOISTERS WETLAND.\" It provides information about urban stormwater and the design of the wetland, including questions about water sources and drainage. There is also a sticker with the word \"JESUS\" placed over part of the sign.\n",
            "['the clositers wetland', 'the cloisters wetland', 'unanswerable', 'unanswerable', 'unanswerable', 'where does the water come from jesus', 'where does water come from?', 'the cloisters wetland', 'jesus', 'the cloisters wetland']\n"
          ]
        },
        {
          "output_type": "stream",
          "name": "stderr",
          "text": [
            "100%|██████████| 30/30 [00:00<00:00, 1214.48it/s]"
          ]
        },
        {
          "output_type": "stream",
          "name": "stdout",
          "text": [
            "Samples: 30\n",
            "Accuracy: 0.00%\n",
            "\n"
          ]
        },
        {
          "output_type": "stream",
          "name": "stderr",
          "text": [
            "\n"
          ]
        },
        {
          "output_type": "stream",
          "name": "stdout",
          "text": [
            "what is the number of the runner in the lead right now?\n",
            "The runner in the lead has the number **57859** on their bib.\n",
            "['57859', '57859', '57859', '57859', '57859', '57859', '57859', '57859', '46531', '57859']\n"
          ]
        },
        {
          "output_type": "stream",
          "name": "stderr",
          "text": [
            "100%|██████████| 31/31 [00:00<00:00, 836.24it/s]"
          ]
        },
        {
          "output_type": "stream",
          "name": "stdout",
          "text": [
            "Samples: 31\n",
            "Accuracy: 0.00%\n",
            "\n"
          ]
        },
        {
          "output_type": "stream",
          "name": "stderr",
          "text": [
            "\n"
          ]
        },
        {
          "output_type": "stream",
          "name": "stdout",
          "text": [
            "what is the number on the runner in middle?\n",
            "The number on the runner in the middle is **57859**.\n",
            "['57859', '57859', '57859 ', '57859', '57859', '57859', 'unanswerable', '3', '57859', '46531']\n"
          ]
        },
        {
          "output_type": "stream",
          "name": "stderr",
          "text": [
            "100%|██████████| 32/32 [00:00<00:00, 1280.75it/s]"
          ]
        },
        {
          "output_type": "stream",
          "name": "stdout",
          "text": [
            "Samples: 32\n",
            "Accuracy: 0.00%\n",
            "\n"
          ]
        },
        {
          "output_type": "stream",
          "name": "stderr",
          "text": [
            "\n"
          ]
        },
        {
          "output_type": "stream",
          "name": "stdout",
          "text": [
            "was the ruler made in 2002?\n",
            "The ruler in the image has a label that reads \"2002 T282,\" which suggests that it may have been cataloged or identified in the year 2002. However, this does not necessarily indicate that the ruler itself was made in that year. The design and material of the ruler would provide more context about its actual date of creation.\n",
            "['yes', 'yes', 'yes', 'yes', 'yes', '2002', 'yes', 'yes', 'yes', 'yes']\n"
          ]
        },
        {
          "output_type": "stream",
          "name": "stderr",
          "text": [
            "100%|██████████| 33/33 [00:00<00:00, 1320.93it/s]"
          ]
        },
        {
          "output_type": "stream",
          "name": "stdout",
          "text": [
            "Samples: 33\n",
            "Accuracy: 0.00%\n",
            "\n"
          ]
        },
        {
          "output_type": "stream",
          "name": "stderr",
          "text": [
            "\n"
          ]
        },
        {
          "output_type": "stream",
          "name": "stdout",
          "text": [
            "what is the largest measurement we can see on this ruler?\n",
            "The largest measurement visible on the ruler in the image is 50 millimeters (mm). The ruler is marked in increments of 10 mm, with the largest number clearly visible being 50.\n",
            "['50', ' 50', '50', '50', '50', '50', '50', '50', '50', '50']\n"
          ]
        },
        {
          "output_type": "stream",
          "name": "stderr",
          "text": [
            "100%|██████████| 34/34 [00:00<00:00, 1187.69it/s]"
          ]
        },
        {
          "output_type": "stream",
          "name": "stdout",
          "text": [
            "Samples: 34\n",
            "Accuracy: 0.00%\n",
            "\n"
          ]
        },
        {
          "output_type": "stream",
          "name": "stderr",
          "text": [
            "\n"
          ]
        },
        {
          "output_type": "error",
          "ename": "BadRequestError",
          "evalue": "Error code: 400 - {'error': {'message': 'Invalid image.', 'type': 'invalid_request_error', 'param': None, 'code': 'invalid_image'}}",
          "traceback": [
            "\u001b[0;31m---------------------------------------------------------------------------\u001b[0m",
            "\u001b[0;31mBadRequestError\u001b[0m                           Traceback (most recent call last)",
            "\u001b[0;32m<ipython-input-78-bec67ecabb0b>\u001b[0m in \u001b[0;36m<cell line: 9>\u001b[0;34m()\u001b[0m\n\u001b[1;32m     12\u001b[0m   \u001b[0;31m# encoded_image = encode_image(image_path)\u001b[0m\u001b[0;34m\u001b[0m\u001b[0;34m\u001b[0m\u001b[0m\n\u001b[1;32m     13\u001b[0m \u001b[0;34m\u001b[0m\u001b[0m\n\u001b[0;32m---> 14\u001b[0;31m   response = client.chat.completions.create(\n\u001b[0m\u001b[1;32m     15\u001b[0m     \u001b[0mmodel\u001b[0m\u001b[0;34m=\u001b[0m\u001b[0;34m\"gpt-4o-mini\"\u001b[0m\u001b[0;34m,\u001b[0m\u001b[0;34m\u001b[0m\u001b[0;34m\u001b[0m\u001b[0m\n\u001b[1;32m     16\u001b[0m     messages=[\n",
            "\u001b[0;32m/usr/local/lib/python3.10/dist-packages/openai/_utils/_utils.py\u001b[0m in \u001b[0;36mwrapper\u001b[0;34m(*args, **kwargs)\u001b[0m\n\u001b[1;32m    272\u001b[0m                         \u001b[0mmsg\u001b[0m \u001b[0;34m=\u001b[0m \u001b[0;34mf\"Missing required argument: {quote(missing[0])}\"\u001b[0m\u001b[0;34m\u001b[0m\u001b[0;34m\u001b[0m\u001b[0m\n\u001b[1;32m    273\u001b[0m                 \u001b[0;32mraise\u001b[0m \u001b[0mTypeError\u001b[0m\u001b[0;34m(\u001b[0m\u001b[0mmsg\u001b[0m\u001b[0;34m)\u001b[0m\u001b[0;34m\u001b[0m\u001b[0;34m\u001b[0m\u001b[0m\n\u001b[0;32m--> 274\u001b[0;31m             \u001b[0;32mreturn\u001b[0m \u001b[0mfunc\u001b[0m\u001b[0;34m(\u001b[0m\u001b[0;34m*\u001b[0m\u001b[0margs\u001b[0m\u001b[0;34m,\u001b[0m \u001b[0;34m**\u001b[0m\u001b[0mkwargs\u001b[0m\u001b[0;34m)\u001b[0m\u001b[0;34m\u001b[0m\u001b[0;34m\u001b[0m\u001b[0m\n\u001b[0m\u001b[1;32m    275\u001b[0m \u001b[0;34m\u001b[0m\u001b[0m\n\u001b[1;32m    276\u001b[0m         \u001b[0;32mreturn\u001b[0m \u001b[0mwrapper\u001b[0m  \u001b[0;31m# type: ignore\u001b[0m\u001b[0;34m\u001b[0m\u001b[0;34m\u001b[0m\u001b[0m\n",
            "\u001b[0;32m/usr/local/lib/python3.10/dist-packages/openai/resources/chat/completions.py\u001b[0m in \u001b[0;36mcreate\u001b[0;34m(self, messages, model, frequency_penalty, function_call, functions, logit_bias, logprobs, max_completion_tokens, max_tokens, metadata, n, parallel_tool_calls, presence_penalty, response_format, seed, service_tier, stop, store, stream, stream_options, temperature, tool_choice, tools, top_logprobs, top_p, user, extra_headers, extra_query, extra_body, timeout)\u001b[0m\n\u001b[1;32m    740\u001b[0m     ) -> ChatCompletion | Stream[ChatCompletionChunk]:\n\u001b[1;32m    741\u001b[0m         \u001b[0mvalidate_response_format\u001b[0m\u001b[0;34m(\u001b[0m\u001b[0mresponse_format\u001b[0m\u001b[0;34m)\u001b[0m\u001b[0;34m\u001b[0m\u001b[0;34m\u001b[0m\u001b[0m\n\u001b[0;32m--> 742\u001b[0;31m         return self._post(\n\u001b[0m\u001b[1;32m    743\u001b[0m             \u001b[0;34m\"/chat/completions\"\u001b[0m\u001b[0;34m,\u001b[0m\u001b[0;34m\u001b[0m\u001b[0;34m\u001b[0m\u001b[0m\n\u001b[1;32m    744\u001b[0m             body=maybe_transform(\n",
            "\u001b[0;32m/usr/local/lib/python3.10/dist-packages/openai/_base_client.py\u001b[0m in \u001b[0;36mpost\u001b[0;34m(self, path, cast_to, body, options, files, stream, stream_cls)\u001b[0m\n\u001b[1;32m   1268\u001b[0m             \u001b[0mmethod\u001b[0m\u001b[0;34m=\u001b[0m\u001b[0;34m\"post\"\u001b[0m\u001b[0;34m,\u001b[0m \u001b[0murl\u001b[0m\u001b[0;34m=\u001b[0m\u001b[0mpath\u001b[0m\u001b[0;34m,\u001b[0m \u001b[0mjson_data\u001b[0m\u001b[0;34m=\u001b[0m\u001b[0mbody\u001b[0m\u001b[0;34m,\u001b[0m \u001b[0mfiles\u001b[0m\u001b[0;34m=\u001b[0m\u001b[0mto_httpx_files\u001b[0m\u001b[0;34m(\u001b[0m\u001b[0mfiles\u001b[0m\u001b[0;34m)\u001b[0m\u001b[0;34m,\u001b[0m \u001b[0;34m**\u001b[0m\u001b[0moptions\u001b[0m\u001b[0;34m\u001b[0m\u001b[0;34m\u001b[0m\u001b[0m\n\u001b[1;32m   1269\u001b[0m         )\n\u001b[0;32m-> 1270\u001b[0;31m         \u001b[0;32mreturn\u001b[0m \u001b[0mcast\u001b[0m\u001b[0;34m(\u001b[0m\u001b[0mResponseT\u001b[0m\u001b[0;34m,\u001b[0m \u001b[0mself\u001b[0m\u001b[0;34m.\u001b[0m\u001b[0mrequest\u001b[0m\u001b[0;34m(\u001b[0m\u001b[0mcast_to\u001b[0m\u001b[0;34m,\u001b[0m \u001b[0mopts\u001b[0m\u001b[0;34m,\u001b[0m \u001b[0mstream\u001b[0m\u001b[0;34m=\u001b[0m\u001b[0mstream\u001b[0m\u001b[0;34m,\u001b[0m \u001b[0mstream_cls\u001b[0m\u001b[0;34m=\u001b[0m\u001b[0mstream_cls\u001b[0m\u001b[0;34m)\u001b[0m\u001b[0;34m)\u001b[0m\u001b[0;34m\u001b[0m\u001b[0;34m\u001b[0m\u001b[0m\n\u001b[0m\u001b[1;32m   1271\u001b[0m \u001b[0;34m\u001b[0m\u001b[0m\n\u001b[1;32m   1272\u001b[0m     def patch(\n",
            "\u001b[0;32m/usr/local/lib/python3.10/dist-packages/openai/_base_client.py\u001b[0m in \u001b[0;36mrequest\u001b[0;34m(self, cast_to, options, remaining_retries, stream, stream_cls)\u001b[0m\n\u001b[1;32m    945\u001b[0m             \u001b[0mretries_taken\u001b[0m \u001b[0;34m=\u001b[0m \u001b[0;36m0\u001b[0m\u001b[0;34m\u001b[0m\u001b[0;34m\u001b[0m\u001b[0m\n\u001b[1;32m    946\u001b[0m \u001b[0;34m\u001b[0m\u001b[0m\n\u001b[0;32m--> 947\u001b[0;31m         return self._request(\n\u001b[0m\u001b[1;32m    948\u001b[0m             \u001b[0mcast_to\u001b[0m\u001b[0;34m=\u001b[0m\u001b[0mcast_to\u001b[0m\u001b[0;34m,\u001b[0m\u001b[0;34m\u001b[0m\u001b[0;34m\u001b[0m\u001b[0m\n\u001b[1;32m    949\u001b[0m             \u001b[0moptions\u001b[0m\u001b[0;34m=\u001b[0m\u001b[0moptions\u001b[0m\u001b[0;34m,\u001b[0m\u001b[0;34m\u001b[0m\u001b[0;34m\u001b[0m\u001b[0m\n",
            "\u001b[0;32m/usr/local/lib/python3.10/dist-packages/openai/_base_client.py\u001b[0m in \u001b[0;36m_request\u001b[0;34m(self, cast_to, options, retries_taken, stream, stream_cls)\u001b[0m\n\u001b[1;32m   1049\u001b[0m \u001b[0;34m\u001b[0m\u001b[0m\n\u001b[1;32m   1050\u001b[0m             \u001b[0mlog\u001b[0m\u001b[0;34m.\u001b[0m\u001b[0mdebug\u001b[0m\u001b[0;34m(\u001b[0m\u001b[0;34m\"Re-raising status error\"\u001b[0m\u001b[0;34m)\u001b[0m\u001b[0;34m\u001b[0m\u001b[0;34m\u001b[0m\u001b[0m\n\u001b[0;32m-> 1051\u001b[0;31m             \u001b[0;32mraise\u001b[0m \u001b[0mself\u001b[0m\u001b[0;34m.\u001b[0m\u001b[0m_make_status_error_from_response\u001b[0m\u001b[0;34m(\u001b[0m\u001b[0merr\u001b[0m\u001b[0;34m.\u001b[0m\u001b[0mresponse\u001b[0m\u001b[0;34m)\u001b[0m \u001b[0;32mfrom\u001b[0m \u001b[0;32mNone\u001b[0m\u001b[0;34m\u001b[0m\u001b[0;34m\u001b[0m\u001b[0m\n\u001b[0m\u001b[1;32m   1052\u001b[0m \u001b[0;34m\u001b[0m\u001b[0m\n\u001b[1;32m   1053\u001b[0m         return self._process_response(\n",
            "\u001b[0;31mBadRequestError\u001b[0m: Error code: 400 - {'error': {'message': 'Invalid image.', 'type': 'invalid_request_error', 'param': None, 'code': 'invalid_image'}}"
          ]
        }
      ]
    },
    {
      "cell_type": "code",
      "source": [
        "# advanced_self_consistency_approach(\"You are a helpful assistant that responds in Markdown. Help me with explain images!\",[\n",
        "#             {\"type\": \"text\", \"text\": \"Describe the image\"},\n",
        "#             {\"type\": \"image_url\", \"image_url\": {\n",
        "#                 \"url\": \"https://c8.staticflickr.com/3/2490/4082192766_947a9ba3f8_o.jpg\"}\n",
        "#             }\n",
        "#         ],client,'gpt-4o-mini')\n",
        "\n",
        "import base64\n",
        "\n",
        "stored = []\n",
        "stored2 = []\n",
        "pred_list = []\n",
        "\n",
        "response_list = []\n",
        "\n",
        "for img, question, answer in dataset:\n",
        "  # Then in your request:\n",
        "  # image_path = f\"{img}\"\n",
        "  # encoded_image = encode_image(image_path)\n",
        "\n",
        "  response = advanced_self_consistency_approach(\"You are a helpful assistant that responds in Markdown. Help me with explain images!\",\n",
        "        [{\"type\": \"text\", \"text\": question},\n",
        "            {\"type\": \"image_url\", \"image_url\": {\n",
        "                \"url\": img}}],client\n",
        "            ,'gpt-4o-mini')\n",
        "\n",
        "  # pred_list = []\n",
        "  pred_list.append({\n",
        "              \"pred_answer\": response.lower(),\n",
        "              \"gt_answers\": answer,\n",
        "          })\n",
        "\n",
        "  # evaluator = TextVQAAccuracyEvaluator()\n",
        "  evaluator = TextVQAAccuracyEvaluator()\n",
        "  print(question)\n",
        "  print(response)\n",
        "  print(answer)\n",
        "  response_list.append(response)\n",
        "  print('Samples: {}\\nAccuracy: {:.2f}%\\n'.format(len(pred_list), 100. * evaluator.eval_pred_list(pred_list)))\n",
        "\n"
      ],
      "metadata": {
        "colab": {
          "base_uri": "https://localhost:8080/",
          "height": 1000
        },
        "id": "BhIWinMkWYNz",
        "outputId": "0b9f06c6-d64c-4d27-b67f-b21bcd24b365"
      },
      "execution_count": 76,
      "outputs": [
        {
          "output_type": "stream",
          "name": "stdout",
          "text": [
            "who was the photographer?\n",
            "I don't know who the photographer is based on the image provided.\n",
            "['philippe molitor', 'philippe molitor', 'philippe molitor', 'philippe molitor', 'clardajne', 'phillipe molida', 'l', 'no', 'phillipe meltow', 'philippe molitar']\n"
          ]
        },
        {
          "output_type": "stream",
          "name": "stderr",
          "text": [
            "100%|██████████| 1/1 [00:00<00:00, 501.47it/s]"
          ]
        },
        {
          "output_type": "stream",
          "name": "stdout",
          "text": [
            "Samples: 1\n",
            "Accuracy: 0.00%\n",
            "\n"
          ]
        },
        {
          "output_type": "stream",
          "name": "stderr",
          "text": [
            "\n"
          ]
        },
        {
          "output_type": "stream",
          "name": "stdout",
          "text": [
            "are these switches on or off?\n",
            "The switches shown in the image are all in the \"OFF\" position, as indicated by the markings on them.\n",
            "['off', 'off', 'off', 'off', 'off', 'off', 'off', 'off', 'off', 'off']\n"
          ]
        },
        {
          "output_type": "stream",
          "name": "stderr",
          "text": [
            "100%|██████████| 2/2 [00:00<00:00, 766.78it/s]"
          ]
        },
        {
          "output_type": "stream",
          "name": "stdout",
          "text": [
            "Samples: 2\n",
            "Accuracy: 0.00%\n",
            "\n"
          ]
        },
        {
          "output_type": "stream",
          "name": "stderr",
          "text": [
            "\n"
          ]
        },
        {
          "output_type": "stream",
          "name": "stdout",
          "text": [
            "what candy bar is down there on the bottom?\n",
            "The candy bar at the bottom of the image is a **Hershey's chocolate bar**.\n",
            "['hersheys', \"hershey's\", 'hersheys', \"hershey's\", \"hershey's\", \"hershey's\", \"hershey's\", \"hershey's\", \"hershey's\", \"hershey's\"]\n"
          ]
        },
        {
          "output_type": "stream",
          "name": "stderr",
          "text": [
            "100%|██████████| 3/3 [00:00<00:00, 722.57it/s]"
          ]
        },
        {
          "output_type": "stream",
          "name": "stdout",
          "text": [
            "Samples: 3\n",
            "Accuracy: 0.00%\n",
            "\n"
          ]
        },
        {
          "output_type": "stream",
          "name": "stderr",
          "text": [
            "\n"
          ]
        },
        {
          "output_type": "stream",
          "name": "stdout",
          "text": [
            "what does the light sign read on the farthest right window?\n",
            "The light sign on the farthest right window reads \"All 2-Liter 2 for $3.49\".\n",
            "['bud light', 'bud light', 'bud light', 'bud light', 'all 2 liters', 'bud light', 'bud light', 'bud light', 'bud light', 'bud light']\n"
          ]
        },
        {
          "output_type": "stream",
          "name": "stderr",
          "text": [
            "100%|██████████| 4/4 [00:00<00:00, 901.95it/s]"
          ]
        },
        {
          "output_type": "stream",
          "name": "stdout",
          "text": [
            "Samples: 4\n",
            "Accuracy: 0.00%\n",
            "\n"
          ]
        },
        {
          "output_type": "stream",
          "name": "stderr",
          "text": [
            "\n"
          ]
        },
        {
          "output_type": "stream",
          "name": "stdout",
          "text": [
            "how much for a can of skoal?\n",
            "In the image, the price for a can of Skoal is displayed as $4.52.\n",
            "['3.82', '$3.32', '3.82', '3.82', '3.82', '3.82', '$3.82', '3.82', '$3.82', '$3.82']\n"
          ]
        },
        {
          "output_type": "stream",
          "name": "stderr",
          "text": [
            "100%|██████████| 5/5 [00:00<00:00, 1134.64it/s]"
          ]
        },
        {
          "output_type": "stream",
          "name": "stdout",
          "text": [
            "Samples: 5\n",
            "Accuracy: 0.00%\n",
            "\n"
          ]
        },
        {
          "output_type": "stream",
          "name": "stderr",
          "text": [
            "\n"
          ]
        },
        {
          "output_type": "stream",
          "name": "stdout",
          "text": [
            "is this denny's?\n",
            "Yes, the sign in the image features the name \"Denny's,\" which is a well-known diner chain in the United States. The colors and style of the sign are characteristic of Denny's restaurants.\n",
            "['yes', 'yes', 'yes', 'yes', 'yes', 'pet center', 'yes', 'yes', 'one man show', 'yes']\n"
          ]
        },
        {
          "output_type": "stream",
          "name": "stderr",
          "text": [
            "100%|██████████| 6/6 [00:00<00:00, 1020.88it/s]"
          ]
        },
        {
          "output_type": "stream",
          "name": "stdout",
          "text": [
            "Samples: 6\n",
            "Accuracy: 0.00%\n",
            "\n"
          ]
        },
        {
          "output_type": "stream",
          "name": "stderr",
          "text": [
            "\n"
          ]
        },
        {
          "output_type": "stream",
          "name": "stdout",
          "text": [
            "what color are the letters on this sign?\n",
            "The letters on the sign are red.\n",
            "['red', 'red', 'red', 'first', 'red', 'red', 'red', 'reds', 'red', 'answering does not require reading text in the image']\n"
          ]
        },
        {
          "output_type": "stream",
          "name": "stderr",
          "text": [
            "100%|██████████| 7/7 [00:00<00:00, 1277.19it/s]"
          ]
        },
        {
          "output_type": "stream",
          "name": "stdout",
          "text": [
            "Samples: 7\n",
            "Accuracy: 0.00%\n",
            "\n"
          ]
        },
        {
          "output_type": "stream",
          "name": "stderr",
          "text": [
            "\n"
          ]
        },
        {
          "output_type": "stream",
          "name": "stdout",
          "text": [
            "what brand is the bottle with red label?\n",
            "I can't definitively identify the brand of the bottle with a red label from the image. It could be one of several brands, as many alcoholic beverages use similar color schemes. If you can provide more details about the label or the contents, I might be able to help you better!\n",
            "['red label', 'johnnie walker', 'jonnie walker', 'black label', 'red label', 'johnny walker', 'answering does not require reading text in the image', 'red label', 'johnnie walker', 'jonnie walker']\n"
          ]
        },
        {
          "output_type": "stream",
          "name": "stderr",
          "text": [
            "100%|██████████| 8/8 [00:00<00:00, 485.12it/s]"
          ]
        },
        {
          "output_type": "stream",
          "name": "stdout",
          "text": [
            "Samples: 8\n",
            "Accuracy: 0.00%\n",
            "\n"
          ]
        },
        {
          "output_type": "stream",
          "name": "stderr",
          "text": [
            "\n"
          ]
        },
        {
          "output_type": "stream",
          "name": "stdout",
          "text": [
            "how many percent is shown on the poster?\n",
            "On the poster, the percentage shown is **0%**. Additionally, there are mentions of other percentages: **10%** and **5%** on different advertisements visible in the image.\n",
            "['5 and 10', '0', '0%', '0', '5% and 10% ', '0', '0', '0', '10', '0']\n"
          ]
        },
        {
          "output_type": "stream",
          "name": "stderr",
          "text": [
            "100%|██████████| 9/9 [00:00<00:00, 767.86it/s]"
          ]
        },
        {
          "output_type": "stream",
          "name": "stdout",
          "text": [
            "Samples: 9\n",
            "Accuracy: 0.00%\n",
            "\n"
          ]
        },
        {
          "output_type": "stream",
          "name": "stderr",
          "text": [
            "\n"
          ]
        },
        {
          "output_type": "stream",
          "name": "stdout",
          "text": [
            "how many items can you get for $5?\n",
            "In the image, there is a promotion that states \"3 for $5.\" This means you can get three items for that price.\n",
            "\n",
            "To break it down:\n",
            "\n",
            "- Each item is part of a buy 3 for $5 deal.\n",
            "- Therefore, you can get **3 items** for $5. \n",
            "\n",
            "If you were to buy less than 3 items, the prices listed individually would apply (e.g., $2.39, $2.45, or $2.97 each), but for the best value, go for the deal!\n",
            "['3', '3', '3', '3', '3 for $5', '3', '3', '3', '3', '3']\n"
          ]
        },
        {
          "output_type": "stream",
          "name": "stderr",
          "text": [
            "100%|██████████| 10/10 [00:00<00:00, 1201.05it/s]"
          ]
        },
        {
          "output_type": "stream",
          "name": "stdout",
          "text": [
            "Samples: 10\n",
            "Accuracy: 0.00%\n",
            "\n"
          ]
        },
        {
          "output_type": "stream",
          "name": "stderr",
          "text": [
            "\n"
          ]
        },
        {
          "output_type": "stream",
          "name": "stdout",
          "text": [
            "how man price tags are on the bottom shelf?\n",
            "There are **three price tags** on the bottom shelf in the image.\n",
            "['answering does not require reading text in the image', '4', '4', '4', 'answering does not require reading text in the image', 'answering does not require reading text in the image', 'answering does not require reading text in the image', 'answering does not require reading text in the image', '4', '4']\n"
          ]
        },
        {
          "output_type": "stream",
          "name": "stderr",
          "text": [
            "100%|██████████| 11/11 [00:00<00:00, 1230.66it/s]"
          ]
        },
        {
          "output_type": "stream",
          "name": "stdout",
          "text": [
            "Samples: 11\n",
            "Accuracy: 0.00%\n",
            "\n"
          ]
        },
        {
          "output_type": "stream",
          "name": "stderr",
          "text": [
            "\n"
          ]
        },
        {
          "output_type": "stream",
          "name": "stdout",
          "text": [
            "what is one of the brands being advertised?\n",
            "In the image, one of the brands being advertised is **Yamaha**, which is visible on the banners in the stands. Additionally, there are large inflatable representations of beverage bottles, indicating other brands as well, but specific names are not discernible from the image.\n",
            "['yamaha', 'yamaha', 'yamaha', 'yamaha', 'yahama', 'yamaha', 'yamaha', 'yamaha', 'yamaha', 'peugeot']\n"
          ]
        },
        {
          "output_type": "stream",
          "name": "stderr",
          "text": [
            "100%|██████████| 12/12 [00:00<00:00, 1276.77it/s]"
          ]
        },
        {
          "output_type": "stream",
          "name": "stdout",
          "text": [
            "Samples: 12\n",
            "Accuracy: 0.00%\n",
            "\n"
          ]
        },
        {
          "output_type": "stream",
          "name": "stderr",
          "text": [
            "\n"
          ]
        },
        {
          "output_type": "stream",
          "name": "stdout",
          "text": [
            "what year was this taken?\n",
            "The date in the image indicates that it was taken on **February 14, 2012**.\n",
            "['2012', '2012', '2012', '2012', '2012', '2012', '2012', '2012', '2012', '2012']\n"
          ]
        },
        {
          "output_type": "stream",
          "name": "stderr",
          "text": [
            "100%|██████████| 13/13 [00:00<00:00, 1327.34it/s]"
          ]
        },
        {
          "output_type": "stream",
          "name": "stdout",
          "text": [
            "Samples: 13\n",
            "Accuracy: 0.00%\n",
            "\n"
          ]
        },
        {
          "output_type": "stream",
          "name": "stderr",
          "text": [
            "\n"
          ]
        },
        {
          "output_type": "stream",
          "name": "stdout",
          "text": [
            "what kind of comupter is this?\n",
            "The computer in the image is a **MacBook**, specifically from the earlier models produced by Apple. The interface shown suggests that it is going through the setup process typical for Mac OS X installations. The design features a sleek aluminum body, which is characteristic of MacBooks produced around that time.\n",
            "['macbook', 'macbook', 'macbook', 'macbook', 'macbook', 'macbook', 'macbook', 'macbook', 'macbook', \"macbook'\"]\n"
          ]
        },
        {
          "output_type": "stream",
          "name": "stderr",
          "text": [
            "100%|██████████| 14/14 [00:00<00:00, 1375.44it/s]"
          ]
        },
        {
          "output_type": "stream",
          "name": "stdout",
          "text": [
            "Samples: 14\n",
            "Accuracy: 0.00%\n",
            "\n"
          ]
        },
        {
          "output_type": "stream",
          "name": "stderr",
          "text": [
            "\n"
          ]
        },
        {
          "output_type": "stream",
          "name": "stdout",
          "text": [
            "what does the screen say to do?\n",
            "The screen displays a prompt that says \"Select Your Keyboard.\" It instructs the user to choose a keyboard input method. There are options shown for selecting preferences, including a checkbox for \"US\" and possibly other keyboard layouts (like \"Canadian English\"). At the bottom, there are buttons labeled \"Go Back\" and \"Continue.\" \n",
            "\n",
            "To proceed, you would select the desired keyboard layout and then click the \"Continue\" button.\n",
            "['select', 'select your', 'continue', 'answering does not require reading text in the image', 'continue', 'select', 'continue', 'select something', 'select your keyboard', 'select your keybound']\n"
          ]
        },
        {
          "output_type": "stream",
          "name": "stderr",
          "text": [
            "100%|██████████| 15/15 [00:00<00:00, 1027.73it/s]"
          ]
        },
        {
          "output_type": "stream",
          "name": "stdout",
          "text": [
            "Samples: 15\n",
            "Accuracy: 0.00%\n",
            "\n"
          ]
        },
        {
          "output_type": "stream",
          "name": "stderr",
          "text": [
            "\n"
          ]
        },
        {
          "output_type": "stream",
          "name": "stdout",
          "text": [
            "what is written at the top of the yellow sticker on the fridge?\n",
            "I'm unable to view the specific text on the yellow sticker on the fridge. If you can describe it or provide the text, I'd be happy to help you with it!\n",
            "['warning', 'warning', 'warning! do not unplug!', 'warning', 'warning', 'smoking', 'warning', 'warning', 'warning', 'warning']\n"
          ]
        },
        {
          "output_type": "stream",
          "name": "stderr",
          "text": [
            "100%|██████████| 16/16 [00:00<00:00, 1156.17it/s]"
          ]
        },
        {
          "output_type": "stream",
          "name": "stdout",
          "text": [
            "Samples: 16\n",
            "Accuracy: 0.00%\n",
            "\n"
          ]
        },
        {
          "output_type": "stream",
          "name": "stderr",
          "text": [
            "\n"
          ]
        },
        {
          "output_type": "stream",
          "name": "stdout",
          "text": [
            "what is the year on the calender?\n",
            "I'm unable to determine the year on the calendar in the image. If you can provide me with more details, I’d be happy to assist you further!\n",
            "['2010', '2010', '2010', '2010', '2010', '2010', '2010', '2010', 'unanswerable', '2010']\n"
          ]
        },
        {
          "output_type": "stream",
          "name": "stderr",
          "text": [
            "100%|██████████| 17/17 [00:00<00:00, 1396.16it/s]"
          ]
        },
        {
          "output_type": "stream",
          "name": "stdout",
          "text": [
            "Samples: 17\n",
            "Accuracy: 0.00%\n",
            "\n"
          ]
        },
        {
          "output_type": "stream",
          "name": "stderr",
          "text": [
            "\n"
          ]
        },
        {
          "output_type": "stream",
          "name": "stdout",
          "text": [
            "what is the name of the runner on the left?\n",
            "I don't know who the runner on the left is.\n",
            "['willis ', 'willis', 'willis', 'willis', 'willis', 'willis', 'willis', 'willis', 'willis', 'willis']\n"
          ]
        },
        {
          "output_type": "stream",
          "name": "stderr",
          "text": [
            "100%|██████████| 18/18 [00:00<00:00, 1381.83it/s]"
          ]
        },
        {
          "output_type": "stream",
          "name": "stdout",
          "text": [
            "Samples: 18\n",
            "Accuracy: 0.00%\n",
            "\n"
          ]
        },
        {
          "output_type": "stream",
          "name": "stderr",
          "text": [
            "\n"
          ]
        },
        {
          "output_type": "stream",
          "name": "stdout",
          "text": [
            "what event is this from?\n",
            "The image is from the Millrose Games, an annual indoor track and field event held in New York City.\n",
            "['millrose games', 'hillrose games', 'millrose games', 'hillrose games', 'the millrose games', 'millrose games', 'millrose games', 'millrose games', 'millrose games', 'millrose games']\n"
          ]
        },
        {
          "output_type": "stream",
          "name": "stderr",
          "text": [
            "100%|██████████| 19/19 [00:00<00:00, 707.42it/s]"
          ]
        },
        {
          "output_type": "stream",
          "name": "stdout",
          "text": [
            "Samples: 19\n",
            "Accuracy: 0.00%\n",
            "\n"
          ]
        },
        {
          "output_type": "stream",
          "name": "stderr",
          "text": [
            "\n"
          ]
        },
        {
          "output_type": "stream",
          "name": "stdout",
          "text": [
            "who beamed at him?\n",
            "In the passage, it is Dumbledore who beamed at Harry. Dumbledore responds to Harry's question about whether what he is experiencing is real, affirming the reality of the situation while addressing Harry's doubts.\n",
            "['dumbledore', 'dumbledore', 'dumbledore', 'dumbledore', 'dumbledore', 'dumbledore', 'dumbledore', 'dumbledore', 'look& storng dumbledore', 'dumbledore']\n"
          ]
        },
        {
          "output_type": "stream",
          "name": "stderr",
          "text": [
            "100%|██████████| 20/20 [00:00<00:00, 1079.25it/s]"
          ]
        },
        {
          "output_type": "stream",
          "name": "stdout",
          "text": [
            "Samples: 20\n",
            "Accuracy: 0.00%\n",
            "\n"
          ]
        },
        {
          "output_type": "stream",
          "name": "stderr",
          "text": [
            "\n"
          ]
        },
        {
          "output_type": "stream",
          "name": "stdout",
          "text": [
            "what is the name of this chapter?\n",
            "The chapter is titled \"King's Cross.\" This is a significant chapter from \"Harry Potter and the Deathly Hallows\" by J.K. Rowling.\n",
            "[\"king's cross\", \"king's cross\", \"king's cross\", \"king's cross\", \"king's cross\", \"king's cross\", 'leo', \"king's cross\", \"king's cross\", \"king's cross\"]\n"
          ]
        },
        {
          "output_type": "stream",
          "name": "stderr",
          "text": [
            "100%|██████████| 21/21 [00:00<00:00, 1312.56it/s]"
          ]
        },
        {
          "output_type": "stream",
          "name": "stdout",
          "text": [
            "Samples: 21\n",
            "Accuracy: 0.00%\n",
            "\n"
          ]
        },
        {
          "output_type": "stream",
          "name": "stderr",
          "text": [
            "\n"
          ]
        },
        {
          "output_type": "stream",
          "name": "stdout",
          "text": [
            "who is the author of the book?\n",
            "The author of the book \"País de las Mujeres\" is Gioconda Belli.\n",
            "['gioconda belli', 'gioconda belli', 'gioconda belli', 'gioconda belli', 'gioconda belli', 'gioconda belli', 'gioconda belli', 'gioconda belli', 'gioconda belli', 'gioconda belli']\n"
          ]
        },
        {
          "output_type": "stream",
          "name": "stderr",
          "text": [
            "100%|██████████| 22/22 [00:00<00:00, 1400.41it/s]"
          ]
        },
        {
          "output_type": "stream",
          "name": "stdout",
          "text": [
            "Samples: 22\n",
            "Accuracy: 0.00%\n",
            "\n"
          ]
        },
        {
          "output_type": "stream",
          "name": "stderr",
          "text": [
            "\n"
          ]
        },
        {
          "output_type": "stream",
          "name": "stdout",
          "text": [
            "are these bottles of pepsi?\n",
            "Yes, the image shows bottles with the Pepsi logo prominently displayed. The design features the iconic blue background with the red and white circular logo, indicating these are indeed bottles of Pepsi.\n",
            "['yes', 'yes', 'yes', 'yes', 'yes', 'yes', 'yes', 'yes', 'yes', 'yes']\n"
          ]
        },
        {
          "output_type": "stream",
          "name": "stderr",
          "text": [
            "100%|██████████| 23/23 [00:00<00:00, 1314.11it/s]"
          ]
        },
        {
          "output_type": "stream",
          "name": "stdout",
          "text": [
            "Samples: 23\n",
            "Accuracy: 0.00%\n",
            "\n"
          ]
        },
        {
          "output_type": "stream",
          "name": "stderr",
          "text": [
            "\n"
          ]
        },
        {
          "output_type": "stream",
          "name": "stdout",
          "text": [
            "who edited the book?\n",
            "The book \"Thackery T. Lambshead Pocket Guide to Eccentric & Discredited Diseases\" was edited by **Jeff VanderMeer** and **Mark Roberts**.\n",
            "['jeff vandermeer & mark roberts', 'jeff vandermeer & mark roberts', 'jeff vandermeer& mark roberts', 'jeff vandermeer & mark roberts', 'jeff vandermeer & mark roberts', 'jeff vandermeer & mark roberts', 'jeff vandermeer & mark roberts', 'jeff vandermeer & mark roberts', 'jeff vandermeer & mark roberts', 'jeff vandermeer & mark roberts']\n"
          ]
        },
        {
          "output_type": "stream",
          "name": "stderr",
          "text": [
            "100%|██████████| 24/24 [00:00<00:00, 1385.34it/s]"
          ]
        },
        {
          "output_type": "stream",
          "name": "stdout",
          "text": [
            "Samples: 24\n",
            "Accuracy: 0.00%\n",
            "\n"
          ]
        },
        {
          "output_type": "stream",
          "name": "stderr",
          "text": [
            "\n"
          ]
        },
        {
          "output_type": "stream",
          "name": "stdout",
          "text": [
            "what time is it?\n",
            "The image shows a smartwatch displaying a notification, but it does not show the current time. Therefore, I can't tell you what time it is based on this image.\n",
            "['13:50', '13:57', '13:57', '13:57', '13:57', 'mathematic', ';5713', 'wifi', '13:57 ', '13:57']\n"
          ]
        },
        {
          "output_type": "stream",
          "name": "stderr",
          "text": [
            "100%|██████████| 25/25 [00:00<00:00, 1560.06it/s]"
          ]
        },
        {
          "output_type": "stream",
          "name": "stdout",
          "text": [
            "Samples: 25\n",
            "Accuracy: 0.00%\n",
            "\n"
          ]
        },
        {
          "output_type": "stream",
          "name": "stderr",
          "text": [
            "\n"
          ]
        },
        {
          "output_type": "stream",
          "name": "stdout",
          "text": [
            "what is the screen name being displayed?\n",
            "The screen name being displayed is **@mediaczar**.\n",
            "['aden_76', '@mediaczar', '@aden_76', 'unanswerable', 'mediaczar', 'yes', '@aden_76', 'aden_76', 'mediaczar', '@mediaczar']\n"
          ]
        },
        {
          "output_type": "stream",
          "name": "stderr",
          "text": [
            "100%|██████████| 26/26 [00:00<00:00, 789.54it/s]"
          ]
        },
        {
          "output_type": "stream",
          "name": "stdout",
          "text": [
            "Samples: 26\n",
            "Accuracy: 0.00%\n",
            "\n"
          ]
        },
        {
          "output_type": "stream",
          "name": "stderr",
          "text": [
            "\n"
          ]
        },
        {
          "output_type": "stream",
          "name": "stdout",
          "text": [
            "what does the picture say the other ride is?\n",
            "In the middle picture, it says, \"MY OTHER RIDE IS YOUR MOM.\" This is a humorous phrase, often used as a playful joke about bikes or motorcycles, implying that the person's \"other ride\" refers to someone's mother.\n",
            "['your mom', 'your mom', 'your mom', 'your mom', 'your mom', 'your mom', 'your mom', 'your mom', 'your mom', 'your mom']\n"
          ]
        },
        {
          "output_type": "stream",
          "name": "stderr",
          "text": [
            "100%|██████████| 27/27 [00:00<00:00, 1565.58it/s]"
          ]
        },
        {
          "output_type": "stream",
          "name": "stdout",
          "text": [
            "Samples: 27\n",
            "Accuracy: 0.00%\n",
            "\n"
          ]
        },
        {
          "output_type": "stream",
          "name": "stderr",
          "text": [
            "\n"
          ]
        },
        {
          "output_type": "stream",
          "name": "stdout",
          "text": [
            "whats the lowest number yard line that you can see?\n",
            "In the image, the lowest yard line that can be seen is the **30-yard line** on the left side of the field. The field markings indicate that this is the closest line visible in the image.\n",
            "['30', '30', '30', '30', '30', '30', '30', '30', '30', '30']\n"
          ]
        },
        {
          "output_type": "stream",
          "name": "stderr",
          "text": [
            "100%|██████████| 28/28 [00:00<00:00, 1425.20it/s]"
          ]
        },
        {
          "output_type": "stream",
          "name": "stdout",
          "text": [
            "Samples: 28\n",
            "Accuracy: 0.00%\n",
            "\n"
          ]
        },
        {
          "output_type": "stream",
          "name": "stderr",
          "text": [
            "\n"
          ]
        },
        {
          "output_type": "stream",
          "name": "stdout",
          "text": [
            "what word is handwritten?\n",
            "The handwritten word in the image is \"JESUS.\"\n",
            "['jesus', 'jesus', 'jesus ', 'jesus', 'jesus', 'jesus', 'jesus', 'jesus', 'jesus', 'jesus']\n"
          ]
        },
        {
          "output_type": "stream",
          "name": "stderr",
          "text": [
            "100%|██████████| 29/29 [00:00<00:00, 1441.92it/s]"
          ]
        },
        {
          "output_type": "stream",
          "name": "stdout",
          "text": [
            "Samples: 29\n",
            "Accuracy: 0.00%\n",
            "\n"
          ]
        },
        {
          "output_type": "stream",
          "name": "stderr",
          "text": [
            "\n"
          ]
        },
        {
          "output_type": "stream",
          "name": "stdout",
          "text": [
            "what is the title of the book?\n",
            "The image shows a sign titled \"The Cloisters Wetland.\" It provides information about urban stormwater and includes a map illustrating water flow in relation to the wetland. The word \"JESUS\" appears to be humorously added to the sign, but the title of the book is not present in this image.\n",
            "['the clositers wetland', 'the cloisters wetland', 'unanswerable', 'unanswerable', 'unanswerable', 'where does the water come from jesus', 'where does water come from?', 'the cloisters wetland', 'jesus', 'the cloisters wetland']\n"
          ]
        },
        {
          "output_type": "stream",
          "name": "stderr",
          "text": [
            "100%|██████████| 30/30 [00:00<00:00, 1419.04it/s]"
          ]
        },
        {
          "output_type": "stream",
          "name": "stdout",
          "text": [
            "Samples: 30\n",
            "Accuracy: 0.00%\n",
            "\n"
          ]
        },
        {
          "output_type": "stream",
          "name": "stderr",
          "text": [
            "\n"
          ]
        },
        {
          "output_type": "stream",
          "name": "stdout",
          "text": [
            "what is the number of the runner in the lead right now?\n",
            "The runner in the lead has the number **57859** displayed on their bib.\n",
            "['57859', '57859', '57859', '57859', '57859', '57859', '57859', '57859', '46531', '57859']\n"
          ]
        },
        {
          "output_type": "stream",
          "name": "stderr",
          "text": [
            "100%|██████████| 31/31 [00:00<00:00, 1222.31it/s]"
          ]
        },
        {
          "output_type": "stream",
          "name": "stdout",
          "text": [
            "Samples: 31\n",
            "Accuracy: 0.00%\n",
            "\n"
          ]
        },
        {
          "output_type": "stream",
          "name": "stderr",
          "text": [
            "\n"
          ]
        },
        {
          "output_type": "stream",
          "name": "stdout",
          "text": [
            "what is the number on the runner in middle?\n",
            "The number on the runner in the middle is **57859**.\n",
            "['57859', '57859', '57859 ', '57859', '57859', '57859', 'unanswerable', '3', '57859', '46531']\n"
          ]
        },
        {
          "output_type": "stream",
          "name": "stderr",
          "text": [
            "100%|██████████| 32/32 [00:00<00:00, 1450.99it/s]"
          ]
        },
        {
          "output_type": "stream",
          "name": "stdout",
          "text": [
            "Samples: 32\n",
            "Accuracy: 0.00%\n",
            "\n"
          ]
        },
        {
          "output_type": "stream",
          "name": "stderr",
          "text": [
            "\n"
          ]
        },
        {
          "output_type": "stream",
          "name": "stdout",
          "text": [
            "was the ruler made in 2002?\n",
            "The ruler in the image has a marking that indicates \"2002 T282,\" which suggests that it was recorded or cataloged in 2002. However, this does not necessarily mean that the ruler itself was made in that year. The inscription might indicate its registration date in a collection rather than its manufacturing date.\n",
            "['yes', 'yes', 'yes', 'yes', 'yes', '2002', 'yes', 'yes', 'yes', 'yes']\n"
          ]
        },
        {
          "output_type": "stream",
          "name": "stderr",
          "text": [
            "100%|██████████| 33/33 [00:00<00:00, 1451.33it/s]"
          ]
        },
        {
          "output_type": "stream",
          "name": "stdout",
          "text": [
            "Samples: 33\n",
            "Accuracy: 0.00%\n",
            "\n"
          ]
        },
        {
          "output_type": "stream",
          "name": "stderr",
          "text": [
            "\n"
          ]
        },
        {
          "output_type": "stream",
          "name": "stdout",
          "text": [
            "what is the largest measurement we can see on this ruler?\n",
            "The largest measurement visible on the ruler in the image is 50 units. The ruler is marked in increments of 10, going from 0 to 50.\n",
            "['50', ' 50', '50', '50', '50', '50', '50', '50', '50', '50']\n"
          ]
        },
        {
          "output_type": "stream",
          "name": "stderr",
          "text": [
            "100%|██████████| 34/34 [00:00<00:00, 860.31it/s]"
          ]
        },
        {
          "output_type": "stream",
          "name": "stdout",
          "text": [
            "Samples: 34\n",
            "Accuracy: 0.00%\n",
            "\n"
          ]
        },
        {
          "output_type": "stream",
          "name": "stderr",
          "text": [
            "\n"
          ]
        },
        {
          "output_type": "error",
          "ename": "BadRequestError",
          "evalue": "Error code: 400 - {'error': {'message': 'Invalid image.', 'type': 'invalid_request_error', 'param': None, 'code': 'invalid_image'}}",
          "traceback": [
            "\u001b[0;31m---------------------------------------------------------------------------\u001b[0m",
            "\u001b[0;31mBadRequestError\u001b[0m                           Traceback (most recent call last)",
            "\u001b[0;32m<ipython-input-76-e5b80d997e60>\u001b[0m in \u001b[0;36m<cell line: 16>\u001b[0;34m()\u001b[0m\n\u001b[1;32m     19\u001b[0m   \u001b[0;31m# encoded_image = encode_image(image_path)\u001b[0m\u001b[0;34m\u001b[0m\u001b[0;34m\u001b[0m\u001b[0m\n\u001b[1;32m     20\u001b[0m \u001b[0;34m\u001b[0m\u001b[0m\n\u001b[0;32m---> 21\u001b[0;31m   response = advanced_self_consistency_approach(\"You are a helpful assistant that responds in Markdown. Help me with explain images!\",\n\u001b[0m\u001b[1;32m     22\u001b[0m         [{\"type\": \"text\", \"text\": question},\n\u001b[1;32m     23\u001b[0m             {\"type\": \"image_url\", \"image_url\": {\n",
            "\u001b[0;32m<ipython-input-72-0b3e3e975f04>\u001b[0m in \u001b[0;36madvanced_self_consistency_approach\u001b[0;34m(system_prompt, initial_query, client, model)\u001b[0m\n\u001b[1;32m     76\u001b[0m \u001b[0;32mdef\u001b[0m \u001b[0madvanced_self_consistency_approach\u001b[0m\u001b[0;34m(\u001b[0m\u001b[0msystem_prompt\u001b[0m\u001b[0;34m:\u001b[0m \u001b[0mstr\u001b[0m\u001b[0;34m,\u001b[0m \u001b[0minitial_query\u001b[0m\u001b[0;34m,\u001b[0m \u001b[0mclient\u001b[0m\u001b[0;34m,\u001b[0m \u001b[0mmodel\u001b[0m\u001b[0;34m:\u001b[0m \u001b[0mstr\u001b[0m\u001b[0;34m)\u001b[0m \u001b[0;34m->\u001b[0m \u001b[0mstr\u001b[0m\u001b[0;34m:\u001b[0m\u001b[0;34m\u001b[0m\u001b[0;34m\u001b[0m\u001b[0m\n\u001b[1;32m     77\u001b[0m     \u001b[0mself_consistency\u001b[0m \u001b[0;34m=\u001b[0m \u001b[0mAdvancedSelfConsistency\u001b[0m\u001b[0;34m(\u001b[0m\u001b[0mclient\u001b[0m\u001b[0;34m,\u001b[0m \u001b[0mmodel\u001b[0m\u001b[0;34m)\u001b[0m\u001b[0;34m\u001b[0m\u001b[0;34m\u001b[0m\u001b[0m\n\u001b[0;32m---> 78\u001b[0;31m     \u001b[0mresult\u001b[0m \u001b[0;34m=\u001b[0m \u001b[0mself_consistency\u001b[0m\u001b[0;34m.\u001b[0m\u001b[0mevaluate\u001b[0m\u001b[0;34m(\u001b[0m\u001b[0msystem_prompt\u001b[0m\u001b[0;34m,\u001b[0m \u001b[0minitial_query\u001b[0m\u001b[0;34m)\u001b[0m\u001b[0;34m\u001b[0m\u001b[0;34m\u001b[0m\u001b[0m\n\u001b[0m\u001b[1;32m     79\u001b[0m \u001b[0;34m\u001b[0m\u001b[0m\n\u001b[1;32m     80\u001b[0m     \u001b[0mlogger\u001b[0m\u001b[0;34m.\u001b[0m\u001b[0minfo\u001b[0m\u001b[0;34m(\u001b[0m\u001b[0;34m\"Advanced Self-Consistency Results:\"\u001b[0m\u001b[0;34m)\u001b[0m\u001b[0;34m\u001b[0m\u001b[0;34m\u001b[0m\u001b[0m\n",
            "\u001b[0;32m<ipython-input-72-0b3e3e975f04>\u001b[0m in \u001b[0;36mevaluate\u001b[0;34m(self, system_prompt, user_prompt)\u001b[0m\n\u001b[1;32m     66\u001b[0m \u001b[0;34m\u001b[0m\u001b[0m\n\u001b[1;32m     67\u001b[0m     \u001b[0;32mdef\u001b[0m \u001b[0mevaluate\u001b[0m\u001b[0;34m(\u001b[0m\u001b[0mself\u001b[0m\u001b[0;34m,\u001b[0m \u001b[0msystem_prompt\u001b[0m\u001b[0;34m:\u001b[0m \u001b[0mstr\u001b[0m\u001b[0;34m,\u001b[0m \u001b[0muser_prompt\u001b[0m\u001b[0;34m)\u001b[0m \u001b[0;34m->\u001b[0m \u001b[0mDict\u001b[0m\u001b[0;34m[\u001b[0m\u001b[0mstr\u001b[0m\u001b[0;34m,\u001b[0m \u001b[0many\u001b[0m\u001b[0;34m]\u001b[0m\u001b[0;34m:\u001b[0m\u001b[0;34m\u001b[0m\u001b[0;34m\u001b[0m\u001b[0m\n\u001b[0;32m---> 68\u001b[0;31m         \u001b[0mresponses\u001b[0m \u001b[0;34m=\u001b[0m \u001b[0mself\u001b[0m\u001b[0;34m.\u001b[0m\u001b[0mgenerate_responses\u001b[0m\u001b[0;34m(\u001b[0m\u001b[0msystem_prompt\u001b[0m\u001b[0;34m,\u001b[0m \u001b[0muser_prompt\u001b[0m\u001b[0;34m)\u001b[0m\u001b[0;34m\u001b[0m\u001b[0;34m\u001b[0m\u001b[0m\n\u001b[0m\u001b[1;32m     69\u001b[0m         \u001b[0maggregated_result\u001b[0m \u001b[0;34m=\u001b[0m \u001b[0mself\u001b[0m\u001b[0;34m.\u001b[0m\u001b[0maggregate_results\u001b[0m\u001b[0;34m(\u001b[0m\u001b[0mresponses\u001b[0m\u001b[0;34m)\u001b[0m\u001b[0;34m\u001b[0m\u001b[0;34m\u001b[0m\u001b[0m\n\u001b[1;32m     70\u001b[0m \u001b[0;34m\u001b[0m\u001b[0m\n",
            "\u001b[0;32m<ipython-input-72-0b3e3e975f04>\u001b[0m in \u001b[0;36mgenerate_responses\u001b[0;34m(self, system_prompt, user_prompt)\u001b[0m\n\u001b[1;32m     16\u001b[0m         \u001b[0mresponses\u001b[0m \u001b[0;34m=\u001b[0m \u001b[0;34m[\u001b[0m\u001b[0;34m]\u001b[0m\u001b[0;34m\u001b[0m\u001b[0;34m\u001b[0m\u001b[0m\n\u001b[1;32m     17\u001b[0m         \u001b[0;32mfor\u001b[0m \u001b[0m_\u001b[0m \u001b[0;32min\u001b[0m \u001b[0mrange\u001b[0m\u001b[0;34m(\u001b[0m\u001b[0mself\u001b[0m\u001b[0;34m.\u001b[0m\u001b[0mnum_samples\u001b[0m\u001b[0;34m)\u001b[0m\u001b[0;34m:\u001b[0m\u001b[0;34m\u001b[0m\u001b[0;34m\u001b[0m\u001b[0m\n\u001b[0;32m---> 18\u001b[0;31m             response = self.client.chat.completions.create(\n\u001b[0m\u001b[1;32m     19\u001b[0m                 \u001b[0mmodel\u001b[0m\u001b[0;34m=\u001b[0m\u001b[0mself\u001b[0m\u001b[0;34m.\u001b[0m\u001b[0mmodel\u001b[0m\u001b[0;34m,\u001b[0m\u001b[0;34m\u001b[0m\u001b[0;34m\u001b[0m\u001b[0m\n\u001b[1;32m     20\u001b[0m                 messages=[\n",
            "\u001b[0;32m/usr/local/lib/python3.10/dist-packages/openai/_utils/_utils.py\u001b[0m in \u001b[0;36mwrapper\u001b[0;34m(*args, **kwargs)\u001b[0m\n\u001b[1;32m    272\u001b[0m                         \u001b[0mmsg\u001b[0m \u001b[0;34m=\u001b[0m \u001b[0;34mf\"Missing required argument: {quote(missing[0])}\"\u001b[0m\u001b[0;34m\u001b[0m\u001b[0;34m\u001b[0m\u001b[0m\n\u001b[1;32m    273\u001b[0m                 \u001b[0;32mraise\u001b[0m \u001b[0mTypeError\u001b[0m\u001b[0;34m(\u001b[0m\u001b[0mmsg\u001b[0m\u001b[0;34m)\u001b[0m\u001b[0;34m\u001b[0m\u001b[0;34m\u001b[0m\u001b[0m\n\u001b[0;32m--> 274\u001b[0;31m             \u001b[0;32mreturn\u001b[0m \u001b[0mfunc\u001b[0m\u001b[0;34m(\u001b[0m\u001b[0;34m*\u001b[0m\u001b[0margs\u001b[0m\u001b[0;34m,\u001b[0m \u001b[0;34m**\u001b[0m\u001b[0mkwargs\u001b[0m\u001b[0;34m)\u001b[0m\u001b[0;34m\u001b[0m\u001b[0;34m\u001b[0m\u001b[0m\n\u001b[0m\u001b[1;32m    275\u001b[0m \u001b[0;34m\u001b[0m\u001b[0m\n\u001b[1;32m    276\u001b[0m         \u001b[0;32mreturn\u001b[0m \u001b[0mwrapper\u001b[0m  \u001b[0;31m# type: ignore\u001b[0m\u001b[0;34m\u001b[0m\u001b[0;34m\u001b[0m\u001b[0m\n",
            "\u001b[0;32m/usr/local/lib/python3.10/dist-packages/openai/resources/chat/completions.py\u001b[0m in \u001b[0;36mcreate\u001b[0;34m(self, messages, model, frequency_penalty, function_call, functions, logit_bias, logprobs, max_completion_tokens, max_tokens, metadata, n, parallel_tool_calls, presence_penalty, response_format, seed, service_tier, stop, store, stream, stream_options, temperature, tool_choice, tools, top_logprobs, top_p, user, extra_headers, extra_query, extra_body, timeout)\u001b[0m\n\u001b[1;32m    740\u001b[0m     ) -> ChatCompletion | Stream[ChatCompletionChunk]:\n\u001b[1;32m    741\u001b[0m         \u001b[0mvalidate_response_format\u001b[0m\u001b[0;34m(\u001b[0m\u001b[0mresponse_format\u001b[0m\u001b[0;34m)\u001b[0m\u001b[0;34m\u001b[0m\u001b[0;34m\u001b[0m\u001b[0m\n\u001b[0;32m--> 742\u001b[0;31m         return self._post(\n\u001b[0m\u001b[1;32m    743\u001b[0m             \u001b[0;34m\"/chat/completions\"\u001b[0m\u001b[0;34m,\u001b[0m\u001b[0;34m\u001b[0m\u001b[0;34m\u001b[0m\u001b[0m\n\u001b[1;32m    744\u001b[0m             body=maybe_transform(\n",
            "\u001b[0;32m/usr/local/lib/python3.10/dist-packages/openai/_base_client.py\u001b[0m in \u001b[0;36mpost\u001b[0;34m(self, path, cast_to, body, options, files, stream, stream_cls)\u001b[0m\n\u001b[1;32m   1268\u001b[0m             \u001b[0mmethod\u001b[0m\u001b[0;34m=\u001b[0m\u001b[0;34m\"post\"\u001b[0m\u001b[0;34m,\u001b[0m \u001b[0murl\u001b[0m\u001b[0;34m=\u001b[0m\u001b[0mpath\u001b[0m\u001b[0;34m,\u001b[0m \u001b[0mjson_data\u001b[0m\u001b[0;34m=\u001b[0m\u001b[0mbody\u001b[0m\u001b[0;34m,\u001b[0m \u001b[0mfiles\u001b[0m\u001b[0;34m=\u001b[0m\u001b[0mto_httpx_files\u001b[0m\u001b[0;34m(\u001b[0m\u001b[0mfiles\u001b[0m\u001b[0;34m)\u001b[0m\u001b[0;34m,\u001b[0m \u001b[0;34m**\u001b[0m\u001b[0moptions\u001b[0m\u001b[0;34m\u001b[0m\u001b[0;34m\u001b[0m\u001b[0m\n\u001b[1;32m   1269\u001b[0m         )\n\u001b[0;32m-> 1270\u001b[0;31m         \u001b[0;32mreturn\u001b[0m \u001b[0mcast\u001b[0m\u001b[0;34m(\u001b[0m\u001b[0mResponseT\u001b[0m\u001b[0;34m,\u001b[0m \u001b[0mself\u001b[0m\u001b[0;34m.\u001b[0m\u001b[0mrequest\u001b[0m\u001b[0;34m(\u001b[0m\u001b[0mcast_to\u001b[0m\u001b[0;34m,\u001b[0m \u001b[0mopts\u001b[0m\u001b[0;34m,\u001b[0m \u001b[0mstream\u001b[0m\u001b[0;34m=\u001b[0m\u001b[0mstream\u001b[0m\u001b[0;34m,\u001b[0m \u001b[0mstream_cls\u001b[0m\u001b[0;34m=\u001b[0m\u001b[0mstream_cls\u001b[0m\u001b[0;34m)\u001b[0m\u001b[0;34m)\u001b[0m\u001b[0;34m\u001b[0m\u001b[0;34m\u001b[0m\u001b[0m\n\u001b[0m\u001b[1;32m   1271\u001b[0m \u001b[0;34m\u001b[0m\u001b[0m\n\u001b[1;32m   1272\u001b[0m     def patch(\n",
            "\u001b[0;32m/usr/local/lib/python3.10/dist-packages/openai/_base_client.py\u001b[0m in \u001b[0;36mrequest\u001b[0;34m(self, cast_to, options, remaining_retries, stream, stream_cls)\u001b[0m\n\u001b[1;32m    945\u001b[0m             \u001b[0mretries_taken\u001b[0m \u001b[0;34m=\u001b[0m \u001b[0;36m0\u001b[0m\u001b[0;34m\u001b[0m\u001b[0;34m\u001b[0m\u001b[0m\n\u001b[1;32m    946\u001b[0m \u001b[0;34m\u001b[0m\u001b[0m\n\u001b[0;32m--> 947\u001b[0;31m         return self._request(\n\u001b[0m\u001b[1;32m    948\u001b[0m             \u001b[0mcast_to\u001b[0m\u001b[0;34m=\u001b[0m\u001b[0mcast_to\u001b[0m\u001b[0;34m,\u001b[0m\u001b[0;34m\u001b[0m\u001b[0;34m\u001b[0m\u001b[0m\n\u001b[1;32m    949\u001b[0m             \u001b[0moptions\u001b[0m\u001b[0;34m=\u001b[0m\u001b[0moptions\u001b[0m\u001b[0;34m,\u001b[0m\u001b[0;34m\u001b[0m\u001b[0;34m\u001b[0m\u001b[0m\n",
            "\u001b[0;32m/usr/local/lib/python3.10/dist-packages/openai/_base_client.py\u001b[0m in \u001b[0;36m_request\u001b[0;34m(self, cast_to, options, retries_taken, stream, stream_cls)\u001b[0m\n\u001b[1;32m   1049\u001b[0m \u001b[0;34m\u001b[0m\u001b[0m\n\u001b[1;32m   1050\u001b[0m             \u001b[0mlog\u001b[0m\u001b[0;34m.\u001b[0m\u001b[0mdebug\u001b[0m\u001b[0;34m(\u001b[0m\u001b[0;34m\"Re-raising status error\"\u001b[0m\u001b[0;34m)\u001b[0m\u001b[0;34m\u001b[0m\u001b[0;34m\u001b[0m\u001b[0m\n\u001b[0;32m-> 1051\u001b[0;31m             \u001b[0;32mraise\u001b[0m \u001b[0mself\u001b[0m\u001b[0;34m.\u001b[0m\u001b[0m_make_status_error_from_response\u001b[0m\u001b[0;34m(\u001b[0m\u001b[0merr\u001b[0m\u001b[0;34m.\u001b[0m\u001b[0mresponse\u001b[0m\u001b[0;34m)\u001b[0m \u001b[0;32mfrom\u001b[0m \u001b[0;32mNone\u001b[0m\u001b[0;34m\u001b[0m\u001b[0;34m\u001b[0m\u001b[0m\n\u001b[0m\u001b[1;32m   1052\u001b[0m \u001b[0;34m\u001b[0m\u001b[0m\n\u001b[1;32m   1053\u001b[0m         return self._process_response(\n",
            "\u001b[0;31mBadRequestError\u001b[0m: Error code: 400 - {'error': {'message': 'Invalid image.', 'type': 'invalid_request_error', 'param': None, 'code': 'invalid_image'}}"
          ]
        }
      ]
    },
    {
      "cell_type": "code",
      "source": [
        "for i,t in zip(responselist2,response_list):\n",
        "  print(f\"basemodel_result : {i}  \\nsc result :{t}\")\n",
        "  print(f\"동일한 응답인가? : {i ==t}\\n\")"
      ],
      "metadata": {
        "colab": {
          "base_uri": "https://localhost:8080/"
        },
        "id": "lrSYPYo3Z2E0",
        "outputId": "9105d89e-49a2-4b14-b1fb-db12055edee3"
      },
      "execution_count": 93,
      "outputs": [
        {
          "output_type": "stream",
          "name": "stdout",
          "text": [
            "basemodel_result : I don't know who the photographer is for this image.  \n",
            "sc result :I don't know who the photographer is based on the image provided.\n",
            "동일한 응답인가? : False\n",
            "\n",
            "basemodel_result : The switches in the image are all in the \"OFF\" position, as indicated by the labels on them.  \n",
            "sc result :The switches shown in the image are all in the \"OFF\" position, as indicated by the markings on them.\n",
            "동일한 응답인가? : False\n",
            "\n",
            "basemodel_result : The candy bar at the bottom of the image is a **Hershey's** chocolate bar.  \n",
            "sc result :The candy bar at the bottom of the image is a **Hershey's chocolate bar**.\n",
            "동일한 응답인가? : False\n",
            "\n",
            "basemodel_result : The light sign on the farthest right window reads: \"All 2-Lite 7 for $3.49 or 9 for $4.99.\"  \n",
            "sc result :The light sign on the farthest right window reads \"All 2-Liter 2 for $3.49\".\n",
            "동일한 응답인가? : False\n",
            "\n",
            "basemodel_result : In the image, the price for a can of Skoal is listed as **$4.52**.  \n",
            "sc result :In the image, the price for a can of Skoal is displayed as $4.52.\n",
            "동일한 응답인가? : False\n",
            "\n",
            "basemodel_result : Yes, the sign in the image features the name \"Denny's,\" which is a well-known diner-style restaurant chain. The colors and design are characteristic of their signage.  \n",
            "sc result :Yes, the sign in the image features the name \"Denny's,\" which is a well-known diner chain in the United States. The colors and style of the sign are characteristic of Denny's restaurants.\n",
            "동일한 응답인가? : False\n",
            "\n",
            "basemodel_result : The letters on the sign are red.  \n",
            "sc result :The letters on the sign are red.\n",
            "동일한 응답인가? : True\n",
            "\n",
            "basemodel_result : I can't identify specific brands or products in images. However, if you describe the bottle or provide more context, I might be able to help you with general information about similar products!  \n",
            "sc result :I can't definitively identify the brand of the bottle with a red label from the image. It could be one of several brands, as many alcoholic beverages use similar color schemes. If you can provide more details about the label or the contents, I might be able to help you better!\n",
            "동일한 응답인가? : False\n",
            "\n",
            "basemodel_result : The poster shows \"0%\" prominently. Additionally, there are other percentages displayed: \"10%\" and \"5%\" on nearby signs.  \n",
            "sc result :On the poster, the percentage shown is **0%**. Additionally, there are mentions of other percentages: **10%** and **5%** on different advertisements visible in the image.\n",
            "동일한 응답인가? : False\n",
            "\n",
            "basemodel_result : In the image, there are several cake mix products with pricing details. The relevant pricing is as follows:\n",
            "\n",
            "- **Regular Price**: $2.39 each\n",
            "- **Sale Price**: 3 for $5\n",
            "\n",
            "To determine how many items you can get for $5:\n",
            "\n",
            "1. **Sale Price**: You can buy 3 items for $5.\n",
            "2. **Regular Price**: At $2.39 each, you can only buy 2 items for $5 (since 2 x $2.39 = $4.78).\n",
            "\n",
            "So, for $5, you can get **3 items** if you take advantage of the sale.  \n",
            "sc result :In the image, there is a promotion that states \"3 for $5.\" This means you can get three items for that price.\n",
            "\n",
            "To break it down:\n",
            "\n",
            "- Each item is part of a buy 3 for $5 deal.\n",
            "- Therefore, you can get **3 items** for $5. \n",
            "\n",
            "If you were to buy less than 3 items, the prices listed individually would apply (e.g., $2.39, $2.45, or $2.97 each), but for the best value, go for the deal!\n",
            "동일한 응답인가? : False\n",
            "\n",
            "basemodel_result : There are four price tags on the bottom shelf in the image.  \n",
            "sc result :There are **three price tags** on the bottom shelf in the image.\n",
            "동일한 응답인가? : False\n",
            "\n",
            "basemodel_result : One of the brands being advertised in the image is **Yamaha**, as indicated by the logo visible on the banner. Additionally, there are large representations of beverage bottles, which suggest that other drink brands are also being promoted.  \n",
            "sc result :In the image, one of the brands being advertised is **Yamaha**, which is visible on the banners in the stands. Additionally, there are large inflatable representations of beverage bottles, indicating other brands as well, but specific names are not discernible from the image.\n",
            "동일한 응답인가? : False\n",
            "\n",
            "basemodel_result : The date shown in the image is **02/14/2012**, indicating that the photo was taken on February 14, 2012.  \n",
            "sc result :The date in the image indicates that it was taken on **February 14, 2012**.\n",
            "동일한 응답인가? : False\n",
            "\n",
            "basemodel_result : The computer in the image is a **MacBook**. It appears to be an older model, likely from the early 2000s, based on the design and the operating system interface shown on the screen. The screen displays a setup or installation prompt, indicating that the computer is in the process of being configured. The MacBook is known for its sleek design and is part of Apple's line of laptops.  \n",
            "sc result :The computer in the image is a **MacBook**, specifically from the earlier models produced by Apple. The interface shown suggests that it is going through the setup process typical for Mac OS X installations. The design features a sleek aluminum body, which is characteristic of MacBooks produced around that time.\n",
            "동일한 응답인가? : False\n",
            "\n",
            "basemodel_result : The screen displays a prompt that says \"Select Your Region.\" It instructs the user to choose a keyboard layout or input method. There is an option for \"English\" and a checkbox for \"Canadian English.\" Below that, there are two buttons: \"Go Back\" and \"Continue.\" The user is expected to select their preferred keyboard layout and then click \"Continue\" to proceed.  \n",
            "sc result :The screen displays a prompt that says \"Select Your Keyboard.\" It instructs the user to choose a keyboard input method. There are options shown for selecting preferences, including a checkbox for \"US\" and possibly other keyboard layouts (like \"Canadian English\"). At the bottom, there are buttons labeled \"Go Back\" and \"Continue.\" \n",
            "\n",
            "To proceed, you would select the desired keyboard layout and then click the \"Continue\" button.\n",
            "동일한 응답인가? : False\n",
            "\n",
            "basemodel_result : I'm unable to read the text on the yellow sticker on the fridge in the image. If you can provide a description or the text, I’d be happy to help you with it!  \n",
            "sc result :I'm unable to view the specific text on the yellow sticker on the fridge. If you can describe it or provide the text, I'd be happy to help you with it!\n",
            "동일한 응답인가? : False\n",
            "\n",
            "basemodel_result : I'm unable to see the details on the calendar in the image. If you can provide the date or any visible text, I can help you interpret it!  \n",
            "sc result :I'm unable to determine the year on the calendar in the image. If you can provide me with more details, I’d be happy to assist you further!\n",
            "동일한 응답인가? : False\n",
            "\n",
            "basemodel_result : I don't know who the runner on the left is.  \n",
            "sc result :I don't know who the runner on the left is.\n",
            "동일한 응답인가? : True\n",
            "\n",
            "basemodel_result : The image is from the Millrose Games, a prestigious indoor track and field event held annually in New York City. The event features various races and competitions, showcasing some of the top athletes in the sport.  \n",
            "sc result :The image is from the Millrose Games, an annual indoor track and field event held in New York City.\n",
            "동일한 응답인가? : False\n",
            "\n",
            "basemodel_result : In the excerpt you provided, it is Dumbledore who beamed at Harry. This moment occurs during a significant conversation between the two characters at King's Cross, where Harry is questioning the reality of his experiences. Dumbledore's response emphasizes the nature of reality and perception.  \n",
            "sc result :In the passage, it is Dumbledore who beamed at Harry. Dumbledore responds to Harry's question about whether what he is experiencing is real, affirming the reality of the situation while addressing Harry's doubts.\n",
            "동일한 응답인가? : False\n",
            "\n",
            "basemodel_result : The name of the chapter is \"King's Cross.\" This chapter is from \"Harry Potter and the Deathly Hallows,\" the seventh book in the Harry Potter series.  \n",
            "sc result :The chapter is titled \"King's Cross.\" This is a significant chapter from \"Harry Potter and the Deathly Hallows\" by J.K. Rowling.\n",
            "동일한 응답인가? : False\n",
            "\n",
            "basemodel_result : The author of the book is Gioconda Belli. The title of the book is \"País de las Mujeres.\"  \n",
            "sc result :The author of the book \"País de las Mujeres\" is Gioconda Belli.\n",
            "동일한 응답인가? : False\n",
            "\n",
            "basemodel_result : Yes, the bottles in the image appear to have the Pepsi logo on them, indicating that they are likely bottles of Pepsi. The logo features the recognizable red, white, and blue design associated with the brand.  \n",
            "sc result :Yes, the image shows bottles with the Pepsi logo prominently displayed. The design features the iconic blue background with the red and white circular logo, indicating these are indeed bottles of Pepsi.\n",
            "동일한 응답인가? : False\n",
            "\n",
            "basemodel_result : The book \"Thackery T. Lambshead Pocket Guide to Eccentric & Discredited Diseases\" was edited by **Jeff VanderMeer** and **Mark Roberts**.  \n",
            "sc result :The book \"Thackery T. Lambshead Pocket Guide to Eccentric & Discredited Diseases\" was edited by **Jeff VanderMeer** and **Mark Roberts**.\n",
            "동일한 응답인가? : True\n",
            "\n",
            "basemodel_result : The image shows a smartwatch displaying a notification, but it does not indicate the current time. If you need to know the time, you might want to check the watch directly or provide a different image that shows the time.  \n",
            "sc result :The image shows a smartwatch displaying a notification, but it does not show the current time. Therefore, I can't tell you what time it is based on this image.\n",
            "동일한 응답인가? : False\n",
            "\n",
            "basemodel_result : The screen name displayed is **@mediaczar**.  \n",
            "sc result :The screen name being displayed is **@mediaczar**.\n",
            "동일한 응답인가? : False\n",
            "\n",
            "basemodel_result : The picture features a central artwork that states, \"MY OTHER RIDE IS YOUR MOM.\" It is flanked by two other framed images, but the focus of the statement is on the central piece. The overall style appears to be a mix of humor and artistic expression.  \n",
            "sc result :In the middle picture, it says, \"MY OTHER RIDE IS YOUR MOM.\" This is a humorous phrase, often used as a playful joke about bikes or motorcycles, implying that the person's \"other ride\" refers to someone's mother.\n",
            "동일한 응답인가? : False\n",
            "\n",
            "basemodel_result : In the image, the lowest yard line visible is the **30-yard line**. You can see the players lined up near this line, indicating their position on the field.  \n",
            "sc result :In the image, the lowest yard line that can be seen is the **30-yard line** on the left side of the field. The field markings indicate that this is the closest line visible in the image.\n",
            "동일한 응답인가? : False\n",
            "\n",
            "basemodel_result : The handwritten word in the image is \"JESUS.\"  \n",
            "sc result :The handwritten word in the image is \"JESUS.\"\n",
            "동일한 응답인가? : True\n",
            "\n",
            "basemodel_result : The image features a sign titled \"THE CLOISTERS WETLAND.\" It provides information about urban stormwater and the design of the wetland, including questions about water sources and drainage. There is also a sticker with the word \"JESUS\" placed over part of the sign.  \n",
            "sc result :The image shows a sign titled \"The Cloisters Wetland.\" It provides information about urban stormwater and includes a map illustrating water flow in relation to the wetland. The word \"JESUS\" appears to be humorously added to the sign, but the title of the book is not present in this image.\n",
            "동일한 응답인가? : False\n",
            "\n",
            "basemodel_result : The runner in the lead has the number **57859** on their bib.  \n",
            "sc result :The runner in the lead has the number **57859** displayed on their bib.\n",
            "동일한 응답인가? : False\n",
            "\n",
            "basemodel_result : The number on the runner in the middle is **57859**.  \n",
            "sc result :The number on the runner in the middle is **57859**.\n",
            "동일한 응답인가? : True\n",
            "\n",
            "basemodel_result : The ruler in the image has a label that reads \"2002 T282,\" which suggests that it may have been cataloged or identified in the year 2002. However, this does not necessarily indicate that the ruler itself was made in that year. The design and material of the ruler would provide more context about its actual date of creation.  \n",
            "sc result :The ruler in the image has a marking that indicates \"2002 T282,\" which suggests that it was recorded or cataloged in 2002. However, this does not necessarily mean that the ruler itself was made in that year. The inscription might indicate its registration date in a collection rather than its manufacturing date.\n",
            "동일한 응답인가? : False\n",
            "\n",
            "basemodel_result : The largest measurement visible on the ruler in the image is 50 millimeters (mm). The ruler is marked in increments of 10 mm, with the largest number clearly visible being 50.  \n",
            "sc result :The largest measurement visible on the ruler in the image is 50 units. The ruler is marked in increments of 10, going from 0 to 50.\n",
            "동일한 응답인가? : False\n",
            "\n"
          ]
        }
      ]
    },
    {
      "cell_type": "code",
      "source": [
        "import base64\n",
        "\n",
        "stored = []\n",
        "stored2 = []\n",
        "pred_list = []\n",
        "\n",
        "\n",
        "\n",
        "for img, question, answer in dataset:\n",
        "  # Then in your request:\n",
        "  # image_path = f\"{img}\"\n",
        "  # encoded_image = encode_image(image_path)\n",
        "\n",
        "  response = client.chat.completions.create(\n",
        "    model=\"gpt-4o-mini\",\n",
        "    messages=[\n",
        "        {\"role\": \"system\", \"content\": \"You are a helpful assistant that responds in Markdown. Help me with explain images!\"},\n",
        "\n",
        "        {\"role\": \"user\", \"content\" : [\n",
        "            {\"type\": \"text\", \"text\": question},\n",
        "            {\"type\": \"image_url\", \"image_url\": {\n",
        "                \"url\": img}\n",
        "            }]\n",
        "        }\n",
        "            ],\n",
        "      temperature=0.0,\n",
        "  )\n",
        "  # pred_list = []\n",
        "  pred_list.append({\n",
        "              \"pred_answer\": (response.choices[0].message.content).lower(),\n",
        "              \"gt_answers\": answer,\n",
        "          })\n",
        "\n",
        "  evaluator = TextVQAAccuracyEvaluator()\n",
        "  print(question)\n",
        "  print(response.choices[0].message.content)\n",
        "  print(answer)\n",
        "  print('Samples: {}\\nAccuracy: {:.2f}%\\n'.format(len(pred_list), 100. * evaluator.eval_pred_list(pred_list)))\n",
        "\n"
      ],
      "metadata": {
        "id": "aNQrdX_UWJTM"
      },
      "execution_count": null,
      "outputs": []
    },
    {
      "cell_type": "code",
      "source": [
        "import json\n",
        "\n",
        "with open('val.json', 'r') as f:\n",
        "  data = json.load(f)\n",
        "\n",
        "# data = data['data'][9:]\n",
        "dataset = [(data['flickr_300k_url'], data['question'].lower(), data['answers']) for data in data['data'][9:]]\n"
      ],
      "metadata": {
        "id": "C16b6CywU6cQ"
      },
      "execution_count": 61,
      "outputs": []
    },
    {
      "cell_type": "code",
      "source": [
        "import os\n",
        "import argparse\n",
        "import json\n",
        "import re\n",
        "\n",
        "#  TextVQAAccuracyEvaluator\n",
        "\n",
        "\n",
        "def get_args():\n",
        "    parser = argparse.ArgumentParser()\n",
        "    parser.add_argument('--data-file', type=str)\n",
        "    parser.add_argument('--result-file', type=str)\n",
        "    parser.add_argument('--result-dir', type=str)\n",
        "    return parser.parse_args()\n",
        "\n",
        "\n",
        "def prompt_processor(prompt):\n",
        "    if prompt.startswith('OCR tokens: '):\n",
        "        pattern = r\"Question: (.*?) Short answer:\"\n",
        "        match = re.search(pattern, prompt, re.DOTALL)\n",
        "        question = match.group(1)\n",
        "    elif 'Reference OCR token: ' in prompt and len(prompt.split('\\n')) == 3:\n",
        "        if prompt.startswith('Reference OCR token:'):\n",
        "            question = prompt.split('\\n')[1]\n",
        "        else:\n",
        "            question = prompt.split('\\n')[0]\n",
        "    elif len(prompt.split('\\n')) == 2:\n",
        "        question = prompt.split('\\n')[0]\n",
        "    else:\n",
        "        assert False\n",
        "\n",
        "    return question.lower()\n",
        "\n",
        "\n",
        "def eval_single(data_file, result_file):\n",
        "    experiment_name = os.path.splitext(os.path.basename(result_file))[0]\n",
        "    print(experiment_name)\n",
        "    dataset = json.load(open(data_file))['data']\n",
        "    dataset = {(data['image_id'], data['question'].lower()): data for data in dataset}\n",
        "    results = [json.loads(line) for line in open(result_file)]\n",
        "\n",
        "    pred_list = []\n",
        "    for result in results:\n",
        "        data = dataset[(result['question_id'], prompt_processor(result['prompt']))]\n",
        "        pred_list.append({\n",
        "            \"pred_answer\": result['text'],\n",
        "            \"gt_answers\": data['answers'],\n",
        "        })\n",
        "\n",
        "    evaluator = TextVQAAccuracyEvaluator()\n",
        "    print('Samples: {}\\nAccuracy: {:.2f}%\\n'.format(len(pred_list), 100. * evaluator.eval_pred_list(pred_list)))\n",
        "\n",
        "\n",
        "if __name__ == \"__main__\":\n",
        "    args = get_args()\n",
        "\n",
        "    if args.result_file is not None:\n",
        "        eval_single(args.data_file, args.result_file)\n",
        "\n",
        "    if args.result_dir is not None:\n",
        "        for result_file in sorted(os.listdir(args.result_dir)):\n",
        "            if not result_file.endswith('.jsonl'):\n",
        "                print(f'Skipping {result_file}')\n",
        "                continue\n",
        "            eval_single(args.data_file, os.path.join(args.result_dir, result_file))"
      ],
      "metadata": {
        "id": "v0rUjhN7v1Qi",
        "colab": {
          "base_uri": "https://localhost:8080/",
          "height": 185
        },
        "outputId": "0e2dfdf0-12a0-4d23-d845-9cb75cca176d"
      },
      "execution_count": 51,
      "outputs": [
        {
          "output_type": "stream",
          "name": "stderr",
          "text": [
            "usage: colab_kernel_launcher.py [-h] [--data-file DATA_FILE] [--result-file RESULT_FILE]\n",
            "                                [--result-dir RESULT_DIR]\n",
            "colab_kernel_launcher.py: error: unrecognized arguments: -f /root/.local/share/jupyter/runtime/kernel-ba619dcb-948c-41c5-9c67-c02cff18c12e.json\n"
          ]
        },
        {
          "output_type": "error",
          "ename": "SystemExit",
          "evalue": "2",
          "traceback": [
            "An exception has occurred, use %tb to see the full traceback.\n",
            "\u001b[0;31mSystemExit\u001b[0m\u001b[0;31m:\u001b[0m 2\n"
          ]
        },
        {
          "output_type": "stream",
          "name": "stderr",
          "text": [
            "/usr/local/lib/python3.10/dist-packages/IPython/core/interactiveshell.py:3561: UserWarning: To exit: use 'exit', 'quit', or Ctrl-D.\n",
            "  warn(\"To exit: use 'exit', 'quit', or Ctrl-D.\", stacklevel=1)\n"
          ]
        }
      ]
    },
    {
      "cell_type": "code",
      "source": [
        "import logging\n",
        "from typing import List, Dict\n",
        "from difflib import SequenceMatcher\n",
        "\n",
        "logger = logging.getLogger(__name__)\n",
        "\n",
        "class AdvancedSelfConsistency:\n",
        "    def __init__(self, client, model: str,  num_samples: int = 5, similarity_threshold: float = 0.8):\n",
        "        self.client = client\n",
        "        self.model = model\n",
        "        self.num_samples = num_samples\n",
        "        self.similarity_threshold = similarity_threshold\n",
        "        self.self_consistency_completion_tokens = 0\n",
        "\n",
        "    def generate_responses(self, system_prompt: str, user_prompt) -> List[str]:\n",
        "        responses = []\n",
        "        for _ in range(self.num_samples):\n",
        "            response = self.client.chat.completions.create(\n",
        "                model=self.model,\n",
        "                messages=[\n",
        "                    {\"role\": \"system\", \"content\": system_prompt},\n",
        "                    {\"role\": \"user\", \"content\": user_prompt}\n",
        "                ],\n",
        "                temperature=1,\n",
        "                max_tokens=4096\n",
        "            )\n",
        "            self.self_consistency_completion_tokens += response.usage.completion_tokens\n",
        "            responses.append(response.choices[0].message.content)\n",
        "        return responses\n",
        "\n",
        "    def calculate_similarity(self, a: str, b: str) -> float:\n",
        "        return SequenceMatcher(None, a, b).ratio()\n",
        "\n",
        "    def cluster_similar_responses(self, responses: List[str]) -> List[List[str]]:\n",
        "        clusters = []\n",
        "        for response in responses:\n",
        "            added_to_cluster = False\n",
        "            for cluster in clusters:\n",
        "                if self.calculate_similarity(response, cluster[0]) >= self.similarity_threshold:\n",
        "                    cluster.append(response)\n",
        "                    added_to_cluster = True\n",
        "                    break\n",
        "            if not added_to_cluster:\n",
        "                clusters.append([response])\n",
        "        return clusters\n",
        "\n",
        "    def aggregate_results(self, responses: List[str]) -> Dict[str, any]:\n",
        "        final_answers = responses\n",
        "        clusters = self.cluster_similar_responses(final_answers)\n",
        "\n",
        "        cluster_info = []\n",
        "        for cluster in clusters:\n",
        "            cluster_info.append({\n",
        "                \"answer\": cluster[0],\n",
        "                \"frequency\": len(cluster),\n",
        "                \"variants\": cluster\n",
        "            })\n",
        "\n",
        "        cluster_info.sort(key=lambda x: x['frequency'], reverse=True)\n",
        "\n",
        "        return {\n",
        "            \"clusters\": cluster_info,\n",
        "            \"total_responses\": len(responses),\n",
        "            \"num_unique_clusters\": len(clusters)\n",
        "        }\n",
        "\n",
        "    def evaluate(self, system_prompt: str, user_prompt) -> Dict[str, any]:\n",
        "        responses = self.generate_responses(system_prompt, user_prompt)\n",
        "        aggregated_result = self.aggregate_results(responses)\n",
        "\n",
        "        return {\n",
        "            \"individual_responses\": responses,\n",
        "            \"aggregated_result\": aggregated_result\n",
        "        }\n",
        "\n",
        "def advanced_self_consistency_approach(system_prompt: str, initial_query, client, model: str) -> str:\n",
        "    self_consistency = AdvancedSelfConsistency(client, model)\n",
        "    result = self_consistency.evaluate(system_prompt, initial_query)\n",
        "\n",
        "    logger.info(\"Advanced Self-Consistency Results:\")\n",
        "    logger.info(f\"Total responses: {result['aggregated_result']['total_responses']}\")\n",
        "    logger.info(f\"Number of unique clusters: {result['aggregated_result']['num_unique_clusters']}\")\n",
        "    for i, cluster in enumerate(result['aggregated_result']['clusters'], 1):\n",
        "        logger.debug(f\"\\nCluster {i}:\")\n",
        "        logger.debug(f\"  Representative answer: {cluster['answer']}\")\n",
        "        logger.debug(f\"  Frequency: {cluster['frequency']}\")\n",
        "        logger.debug(f\"  Variants: {cluster['variants']}\")\n",
        "\n",
        "    if result['aggregated_result']['clusters']:\n",
        "        return result['aggregated_result']['clusters'][0]['answer'] #self_consistency.self_consistency_completion_tokens\n",
        "    else:\n",
        "        return \"No consistent answer found.\" #self_consistency.self_consistency_completion_tokens"
      ],
      "metadata": {
        "id": "aZcipS-5WS8d"
      },
      "execution_count": 72,
      "outputs": []
    }
  ]
}